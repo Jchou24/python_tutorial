{
 "cells": [
  {
   "cell_type": "markdown",
   "metadata": {
    "slideshow": {
     "slide_type": "slide"
    }
   },
   "source": [
    "# 1. int\n",
    "> 宣告: int() or 直接輸入一個整數"
   ]
  },
  {
   "cell_type": "code",
   "execution_count": 4,
   "metadata": {
    "collapsed": false,
    "slideshow": {
     "slide_type": "fragment"
    }
   },
   "outputs": [
    {
     "name": "stdout",
     "output_type": "stream",
     "text": [
      "1\n",
      "1\n",
      "32\n"
     ]
    }
   ],
   "source": [
    "a = 1\n",
    "b = int(1.0)\n",
    "print a\n",
    "print b\n",
    "print 2**5 # 次方"
   ]
  },
  {
   "cell_type": "markdown",
   "metadata": {
    "slideshow": {
     "slide_type": "slide"
    }
   },
   "source": [
    "# 2. float\n",
    "> 宣告: float() or 直接輸入一個浮點數"
   ]
  },
  {
   "cell_type": "code",
   "execution_count": 5,
   "metadata": {
    "collapsed": false,
    "slideshow": {
     "slide_type": "fragment"
    }
   },
   "outputs": [
    {
     "name": "stdout",
     "output_type": "stream",
     "text": [
      "1.0 1.0\n"
     ]
    }
   ],
   "source": [
    "c = 1.0\n",
    "d = float(1)\n",
    "print c, d"
   ]
  },
  {
   "cell_type": "markdown",
   "metadata": {
    "slideshow": {
     "slide_type": "slide"
    }
   },
   "source": [
    "# 3. 變數交換\n",
    "> 如何對調a跟c的值?"
   ]
  },
  {
   "cell_type": "code",
   "execution_count": 6,
   "metadata": {
    "collapsed": false,
    "slideshow": {
     "slide_type": "fragment"
    }
   },
   "outputs": [
    {
     "name": "stdout",
     "output_type": "stream",
     "text": [
      "1 1.0\n"
     ]
    }
   ],
   "source": [
    "print a, c"
   ]
  },
  {
   "cell_type": "code",
   "execution_count": 7,
   "metadata": {
    "collapsed": false,
    "slideshow": {
     "slide_type": "fragment"
    }
   },
   "outputs": [
    {
     "name": "stdout",
     "output_type": "stream",
     "text": [
      "1.0 1\n"
     ]
    }
   ],
   "source": [
    "tmp = c\n",
    "c = a\n",
    "a = tmp\n",
    "print a,c"
   ]
  },
  {
   "cell_type": "code",
   "execution_count": 8,
   "metadata": {
    "collapsed": false,
    "slideshow": {
     "slide_type": "fragment"
    }
   },
   "outputs": [
    {
     "name": "stdout",
     "output_type": "stream",
     "text": [
      "1 1.0\n"
     ]
    }
   ],
   "source": [
    "a, c = c, a\n",
    "print a,c"
   ]
  },
  {
   "cell_type": "markdown",
   "metadata": {
    "slideshow": {
     "slide_type": "slide"
    }
   },
   "source": [
    "# 4. string\n",
    "> 宣告: str() 或 用引號，雙引號，三個引號包起來"
   ]
  },
  {
   "cell_type": "code",
   "execution_count": 7,
   "metadata": {
    "collapsed": false,
    "slideshow": {
     "slide_type": "fragment"
    }
   },
   "outputs": [
    {
     "name": "stdout",
     "output_type": "stream",
     "text": [
      "0 1 2 3 \n",
      "some long text\n",
      "\n"
     ]
    }
   ],
   "source": [
    "s = str(0)\n",
    "s1 = '1'\n",
    "s2 = \"2\"\n",
    "s3 = \"\"\"3\"\"\"\n",
    "s4 = '''\n",
    "some long text\n",
    "'''\n",
    "print s, s1, s2, s3, s4"
   ]
  },
  {
   "cell_type": "markdown",
   "metadata": {
    "slideshow": {
     "slide_type": "subslide"
    }
   },
   "source": [
    "# 如何知道字串裡有特殊字元？\n",
    "# 如何知道印出的數字是數值還是字串？"
   ]
  },
  {
   "cell_type": "code",
   "execution_count": 8,
   "metadata": {
    "collapsed": false,
    "slideshow": {
     "slide_type": "skip"
    }
   },
   "outputs": [],
   "source": [
    "string = '123\\t456'\n",
    "string2 = '123     456'"
   ]
  },
  {
   "cell_type": "code",
   "execution_count": 9,
   "metadata": {
    "collapsed": false,
    "slideshow": {
     "slide_type": "-"
    }
   },
   "outputs": [
    {
     "name": "stdout",
     "output_type": "stream",
     "text": [
      "123\t456\n",
      "123     456\n"
     ]
    }
   ],
   "source": [
    "print string\n",
    "print string2"
   ]
  },
  {
   "cell_type": "markdown",
   "metadata": {
    "slideshow": {
     "slide_type": "fragment"
    }
   },
   "source": [
    "# Difference?\n",
    "# 123 is number or string?\n",
    "# 456 is number or string?"
   ]
  },
  {
   "cell_type": "code",
   "execution_count": 10,
   "metadata": {
    "collapsed": false,
    "slideshow": {
     "slide_type": "subslide"
    }
   },
   "outputs": [
    {
     "name": "stdout",
     "output_type": "stream",
     "text": [
      "123\t456\n",
      "'123\\t456'\n",
      "['123\\t456']\n"
     ]
    }
   ],
   "source": [
    "print str(string)\n",
    "print repr(string)\n",
    "print [string]"
   ]
  },
  {
   "cell_type": "code",
   "execution_count": 11,
   "metadata": {
    "collapsed": false,
    "slideshow": {
     "slide_type": "fragment"
    }
   },
   "outputs": [
    {
     "name": "stdout",
     "output_type": "stream",
     "text": [
      "['123     456']\n"
     ]
    }
   ],
   "source": [
    "print [string2]"
   ]
  },
  {
   "cell_type": "code",
   "execution_count": 12,
   "metadata": {
    "collapsed": false,
    "slideshow": {
     "slide_type": "fragment"
    }
   },
   "outputs": [
    {
     "name": "stdout",
     "output_type": "stream",
     "text": [
      "你好啊！  \n",
      "今天天氣真好\n",
      "['\\xe4\\xbd\\xa0\\xe5\\xa5\\xbd\\xe5\\x95\\x8a\\xef\\xbc\\x81  \\n\\xe4\\xbb\\x8a\\xe5\\xa4\\xa9\\xe5\\xa4\\xa9\\xe6\\xb0\\xa3\\xe7\\x9c\\x9f\\xe5\\xa5\\xbd']\n"
     ]
    }
   ],
   "source": [
    "string3 = \"你好啊！  \\n今天天氣真好\"\n",
    "print string3\n",
    "print [string3]"
   ]
  },
  {
   "cell_type": "code",
   "execution_count": 13,
   "metadata": {
    "collapsed": true,
    "slideshow": {
     "slide_type": "subslide"
    }
   },
   "outputs": [],
   "source": [
    "a1 = \"青蘋果\"\n",
    "a2 = \"頻果\"\n",
    "a3 = \"爛頻果\"\n",
    "\n",
    "d1 = 50\n",
    "d2 = 100\n",
    "d3 = -50"
   ]
  },
  {
   "cell_type": "markdown",
   "metadata": {
    "slideshow": {
     "slide_type": "-"
    }
   },
   "source": [
    "# 如何印出這個？"
   ]
  },
  {
   "cell_type": "code",
   "execution_count": 14,
   "metadata": {
    "collapsed": false,
    "slideshow": {
     "slide_type": "skip"
    }
   },
   "outputs": [],
   "source": [
    "x = \"\"\"\n",
    " 1. 青蘋果:  50 \n",
    " 2.   蘋果: 100\n",
    "10. 爛蘋果: -50\n",
    "\"\"\""
   ]
  },
  {
   "cell_type": "code",
   "execution_count": 15,
   "metadata": {
    "collapsed": false,
    "slideshow": {
     "slide_type": "-"
    }
   },
   "outputs": [
    {
     "name": "stdout",
     "output_type": "stream",
     "text": [
      "\n",
      " 1. 青蘋果:  50 \n",
      " 2.   蘋果: 100\n",
      "10. 爛蘋果: -50\n",
      "\n"
     ]
    }
   ],
   "source": [
    "print x"
   ]
  },
  {
   "cell_type": "code",
   "execution_count": 16,
   "metadata": {
    "collapsed": false,
    "slideshow": {
     "slide_type": "fragment"
    }
   },
   "outputs": [
    {
     "name": "stdout",
     "output_type": "stream",
     "text": [
      "  1. 青蘋果:   50\n",
      "  2.   頻果:  100\n",
      " 10. 爛頻果:  -50\n"
     ]
    }
   ],
   "source": [
    "print \"  1.\", a1+\":  \", str(d1)\n",
    "print \"  2.  \", a2+\": \", str(d2)\n",
    "print \" 10.\", a3+\": \", str(d3)"
   ]
  },
  {
   "cell_type": "markdown",
   "metadata": {
    "slideshow": {
     "slide_type": "subslide"
    }
   },
   "source": [
    "# 難道沒有更簡單的方法嗎？"
   ]
  },
  {
   "cell_type": "markdown",
   "metadata": {
    "slideshow": {
     "slide_type": "subslide"
    }
   },
   "source": [
    "# format()"
   ]
  },
  {
   "cell_type": "code",
   "execution_count": 17,
   "metadata": {
    "collapsed": false,
    "slideshow": {
     "slide_type": "fragment"
    }
   },
   "outputs": [
    {
     "name": "stdout",
     "output_type": "stream",
     "text": [
      "  1. 青蘋果:    50\n",
      "  2.   頻果:   100\n",
      " 10. 爛頻果:   -50\n"
     ]
    }
   ],
   "source": [
    "string_format = \"{0:>3}. {1:>8}: {price:>5}\"\n",
    "print string_format.format( 1, a1, price=d1 )\n",
    "print string_format.format( 2, a2, price=d2 )\n",
    "print string_format.format( 10, a3, price=d3 )"
   ]
  },
  {
   "cell_type": "markdown",
   "metadata": {
    "slideshow": {
     "slide_type": "subslide"
    }
   },
   "source": [
    "# 只需修改參數即可印出相同格式！\n",
    "> {0:>3}\n",
    "\n",
    "<b>\"<i>{}</i>\"</b>: 代表要更動輸出的部分  <br>\n",
    "<b>\"<i>0</i>\"</b>: 第0個參數  <br>\n",
    "<b>\"<i>:</i>\"</b>: 冒號後接要印的格式  <br>\n",
    "<b>\"<i>>3</i>\"</b>: 指向右靠齊3位  <br>\n",
    "\n",
    "> {price:>5}\n",
    "\n",
    "如果不想用第幾個參數來指定要輸出的內容 <br>\n",
    "也可以指定要哪個參數輸出什麼值 <br>\n",
    "\n",
    "像這邊就是用price來指定"
   ]
  },
  {
   "cell_type": "markdown",
   "metadata": {
    "slideshow": {
     "slide_type": "subslide"
    }
   },
   "source": [
    "# \\n, \\t, 空格 出現在字串頭尾好麻煩啊，怎麼直接去掉呢？\n",
    "\"\\n123\\n\"  <br>\n",
    "\"  123   \" <br>\n",
    "\"\\t  123\"  <br>\n",
    "\"\\n  123\"  <br>"
   ]
  },
  {
   "cell_type": "code",
   "execution_count": 18,
   "metadata": {
    "collapsed": false,
    "slideshow": {
     "slide_type": "fragment"
    }
   },
   "outputs": [
    {
     "name": "stdout",
     "output_type": "stream",
     "text": [
      "\n",
      "  \t123\n",
      "\n",
      "123\n",
      "['123']\n"
     ]
    }
   ],
   "source": [
    "string = \"\\n  \\t123\\n\"\n",
    "print string\n",
    "print string.strip()\n",
    "print [string.strip()]"
   ]
  },
  {
   "cell_type": "markdown",
   "metadata": {
    "slideshow": {
     "slide_type": "subslide"
    }
   },
   "source": [
    "# 字串串接"
   ]
  },
  {
   "cell_type": "code",
   "execution_count": 19,
   "metadata": {
    "collapsed": false,
    "slideshow": {
     "slide_type": "fragment"
    }
   },
   "outputs": [
    {
     "name": "stdout",
     "output_type": "stream",
     "text": [
      "Hello\n",
      "World!\n",
      "Hello World!\n"
     ]
    }
   ],
   "source": [
    "string1 = \"Hello\"\n",
    "string2 = \"World!\"\n",
    "string3 = string1 + \" \" + string2\n",
    "print string1\n",
    "print string2\n",
    "print string3"
   ]
  },
  {
   "cell_type": "markdown",
   "metadata": {
    "slideshow": {
     "slide_type": "fragment"
    }
   },
   "source": [
    "# 但是 + 的做法效能很差\n",
    "# 之後會有更詳細的說明"
   ]
  },
  {
   "cell_type": "markdown",
   "metadata": {
    "slideshow": {
     "slide_type": "subslide"
    }
   },
   "source": [
    "# 其他一些好用function"
   ]
  },
  {
   "cell_type": "code",
   "execution_count": 20,
   "metadata": {
    "collapsed": false,
    "slideshow": {
     "slide_type": "fragment"
    }
   },
   "outputs": [
    {
     "name": "stdout",
     "output_type": "stream",
     "text": [
      "['\\xe4\\xbd\\xa0\\xe5\\xa5\\xbd']\n",
      "6\n"
     ]
    }
   ],
   "source": [
    "string = \"你好\"\n",
    "print [string]\n",
    "print len(string)"
   ]
  },
  {
   "cell_type": "code",
   "execution_count": 21,
   "metadata": {
    "collapsed": false,
    "slideshow": {
     "slide_type": "fragment"
    }
   },
   "outputs": [
    {
     "name": "stdout",
     "output_type": "stream",
     "text": [
      "big apple\n",
      "BIG APPLE\n",
      "BIG Apple\n"
     ]
    }
   ],
   "source": [
    "string = \"BIG Apple\"\n",
    "print string.lower()\n",
    "print string.upper()\n",
    "print string"
   ]
  },
  {
   "cell_type": "code",
   "execution_count": 22,
   "metadata": {
    "collapsed": false,
    "slideshow": {
     "slide_type": "fragment"
    }
   },
   "outputs": [
    {
     "name": "stdout",
     "output_type": "stream",
     "text": [
      "['Apple', ' Orange', ' Banana']\n"
     ]
    }
   ],
   "source": [
    "string = \"Apple, Orange, Banana\"\n",
    "print string.split(\",\")"
   ]
  },
  {
   "cell_type": "code",
   "execution_count": 23,
   "metadata": {
    "collapsed": false,
    "slideshow": {
     "slide_type": "fragment"
    }
   },
   "outputs": [
    {
     "name": "stdout",
     "output_type": "stream",
     "text": [
      "golden apple\n"
     ]
    }
   ],
   "source": [
    "string = \"rotten apple\"\n",
    "print string.replace(\"rotten\",\"golden\")"
   ]
  },
  {
   "cell_type": "markdown",
   "metadata": {
    "slideshow": {
     "slide_type": "subslide"
    }
   },
   "source": [
    "# 如果想取代的是一串數字該怎麼辦呢？\n",
    "123 => n <br>\n",
    "1 => n <br>\n",
    "1234566 => n <br>"
   ]
  },
  {
   "cell_type": "markdown",
   "metadata": {
    "slideshow": {
     "slide_type": "fragment"
    }
   },
   "source": [
    "# Regular Expression!\n",
    "但目前我們還不會講到，之後會有更詳細的說明"
   ]
  },
  {
   "cell_type": "markdown",
   "metadata": {
    "slideshow": {
     "slide_type": "slide"
    }
   },
   "source": [
    "# 5. boolean"
   ]
  },
  {
   "cell_type": "code",
   "execution_count": 24,
   "metadata": {
    "collapsed": false,
    "slideshow": {
     "slide_type": "fragment"
    }
   },
   "outputs": [
    {
     "name": "stdout",
     "output_type": "stream",
     "text": [
      "False\n",
      "True\n",
      "False\n"
     ]
    }
   ],
   "source": [
    "a = True\n",
    "b = False\n",
    "print a and b\n",
    "print a or b\n",
    "print not(a or b)"
   ]
  },
  {
   "cell_type": "markdown",
   "metadata": {
    "slideshow": {
     "slide_type": "slide"
    }
   },
   "source": [
    "# 6. if"
   ]
  },
  {
   "cell_type": "markdown",
   "metadata": {
    "collapsed": true,
    "slideshow": {
     "slide_type": "fragment"
    }
   },
   "source": [
    "# 如果我的值域需限制在 0 <= i < 10 怎麼做？"
   ]
  },
  {
   "cell_type": "code",
   "execution_count": 25,
   "metadata": {
    "collapsed": false,
    "slideshow": {
     "slide_type": "fragment"
    }
   },
   "outputs": [
    {
     "name": "stdout",
     "output_type": "stream",
     "text": [
      "Yes\n"
     ]
    }
   ],
   "source": [
    "i = 5\n",
    "if 0 <= i and i < 10:\n",
    "    print \"Yes\"\n",
    "else:\n",
    "    print \"No\""
   ]
  },
  {
   "cell_type": "markdown",
   "metadata": {
    "slideshow": {
     "slide_type": "fragment"
    }
   },
   "source": [
    "# 要打個 and 好麻煩啊啊啊啊"
   ]
  },
  {
   "cell_type": "code",
   "execution_count": 26,
   "metadata": {
    "collapsed": false,
    "slideshow": {
     "slide_type": "fragment"
    }
   },
   "outputs": [
    {
     "name": "stdout",
     "output_type": "stream",
     "text": [
      "Yes\n"
     ]
    }
   ],
   "source": [
    "if 0 <= i < 10:\n",
    "    print \"Yes\"\n",
    "else:\n",
    "    print \"No\""
   ]
  },
  {
   "cell_type": "markdown",
   "metadata": {
    "slideshow": {
     "slide_type": "fragment"
    }
   },
   "source": [
    "# 不要打就好了ʅ（´◔౪◔）ʃ"
   ]
  },
  {
   "cell_type": "markdown",
   "metadata": {
    "slideshow": {
     "slide_type": "slide"
    }
   },
   "source": [
    "# 7. list\n",
    "> 宣告: list() or 直接打[]"
   ]
  },
  {
   "cell_type": "code",
   "execution_count": 27,
   "metadata": {
    "collapsed": false,
    "slideshow": {
     "slide_type": "fragment"
    }
   },
   "outputs": [
    {
     "name": "stdout",
     "output_type": "stream",
     "text": [
      " [1, 2, 3]\n",
      " ['a', 'b', 'c']\n",
      " [1, 'a', [1, 2, 3], ['a', 'b', 'c']]\n",
      "\n"
     ]
    }
   ],
   "source": [
    "a = [1,2,3]\n",
    "b = ['a','b','c']\n",
    "c = [1,'a',a,b]\n",
    "print \" {0}\\n {1}\\n {2}\\n\".format(a,b,c)"
   ]
  },
  {
   "cell_type": "code",
   "execution_count": 28,
   "metadata": {
    "collapsed": false,
    "slideshow": {
     "slide_type": "fragment"
    }
   },
   "outputs": [
    {
     "name": "stdout",
     "output_type": "stream",
     "text": [
      "[1, 2, 3]\n",
      "['HAHA', 2, 3]\n",
      "['HAHA', 2, 3]\n"
     ]
    }
   ],
   "source": [
    "print a\n",
    "b = a\n",
    "b[0] = 'HAHA'\n",
    "print a\n",
    "print b"
   ]
  },
  {
   "cell_type": "markdown",
   "metadata": {
    "collapsed": true,
    "slideshow": {
     "slide_type": "subslide"
    }
   },
   "source": [
    "# (･A･)..."
   ]
  },
  {
   "cell_type": "markdown",
   "metadata": {
    "slideshow": {
     "slide_type": "fragment"
    }
   },
   "source": [
    "# (╬ ಠ 益ಠ) 誰是誰？？"
   ]
  },
  {
   "cell_type": "markdown",
   "metadata": {
    "slideshow": {
     "slide_type": "subslide"
    }
   },
   "source": [
    "# id()"
   ]
  },
  {
   "cell_type": "code",
   "execution_count": 29,
   "metadata": {
    "collapsed": false,
    "slideshow": {
     "slide_type": "fragment"
    }
   },
   "outputs": [
    {
     "name": "stdout",
     "output_type": "stream",
     "text": [
      "4359596800\n",
      "4359596800\n"
     ]
    }
   ],
   "source": [
    "print id(a)\n",
    "print id(b)"
   ]
  },
  {
   "cell_type": "markdown",
   "metadata": {
    "slideshow": {
     "slide_type": "fragment"
    }
   },
   "source": [
    "# 原來是一夥的！ ┴─┴︵╰（‵□′╰ "
   ]
  },
  {
   "cell_type": "markdown",
   "metadata": {
    "slideshow": {
     "slide_type": "subslide"
    }
   },
   "source": [
    "# import copy"
   ]
  },
  {
   "cell_type": "code",
   "execution_count": 30,
   "metadata": {
    "collapsed": false,
    "slideshow": {
     "slide_type": "fragment"
    }
   },
   "outputs": [
    {
     "name": "stdout",
     "output_type": "stream",
     "text": [
      "4359596800 ['HAHA', 2, 3]\n",
      "4386102664 [123, 2, 3]\n"
     ]
    }
   ],
   "source": [
    "import copy\n",
    "b = copy.copy(a)\n",
    "b[0] = 123\n",
    "print id(a), a\n",
    "print id(b), b"
   ]
  },
  {
   "cell_type": "code",
   "execution_count": 31,
   "metadata": {
    "collapsed": false,
    "slideshow": {
     "slide_type": "fragment"
    }
   },
   "outputs": [
    {
     "name": "stdout",
     "output_type": "stream",
     "text": [
      "4359596800 ['HAHA', 2, 3]\n",
      "4360201136 ['YES', 2, 3]\n"
     ]
    }
   ],
   "source": [
    "b = a[:]\n",
    "b[0] = \"YES\"\n",
    "print id(a), a\n",
    "print id(b), b"
   ]
  },
  {
   "cell_type": "code",
   "execution_count": 32,
   "metadata": {
    "collapsed": false,
    "slideshow": {
     "slide_type": "fragment"
    }
   },
   "outputs": [
    {
     "name": "stdout",
     "output_type": "stream",
     "text": [
      "4360201712 [['HAHA', 2, 3], 2, 3]\n",
      "4385972592 [['HAHA', 2, 3], 2, 3]\n"
     ]
    }
   ],
   "source": [
    "a = [[1,2,3],2,3]\n",
    "b = copy.copy(a)\n",
    "b[0][0] = \"HAHA\"\n",
    "print id(a), a\n",
    "print id(b), b"
   ]
  },
  {
   "cell_type": "markdown",
   "metadata": {
    "slideshow": {
     "slide_type": "fragment"
    }
   },
   "source": [
    "# (´▽｀)..."
   ]
  },
  {
   "cell_type": "markdown",
   "metadata": {
    "slideshow": {
     "slide_type": "subslide"
    }
   },
   "source": [
    "# (⊙◞౪◟⊙)蛤！？"
   ]
  },
  {
   "cell_type": "markdown",
   "metadata": {
    "slideshow": {
     "slide_type": "subslide"
    }
   },
   "source": [
    "# deepcopy()"
   ]
  },
  {
   "cell_type": "code",
   "execution_count": 33,
   "metadata": {
    "collapsed": false,
    "slideshow": {
     "slide_type": "fragment"
    }
   },
   "outputs": [
    {
     "name": "stdout",
     "output_type": "stream",
     "text": [
      "4360201712 4360200704\n",
      "4385972592 4360200704\n"
     ]
    }
   ],
   "source": [
    "print id(a), id(a[0])\n",
    "print id(b), id(b[0])"
   ]
  },
  {
   "cell_type": "code",
   "execution_count": 34,
   "metadata": {
    "collapsed": false,
    "slideshow": {
     "slide_type": "fragment"
    }
   },
   "outputs": [
    {
     "name": "stdout",
     "output_type": "stream",
     "text": [
      "4360201712 4360200704 [['HAHA', 2, 3], 2, 3]\n",
      "4360201424 4360202000 [[123, 2, 3], 2, 3]\n"
     ]
    }
   ],
   "source": [
    "b = copy.deepcopy(a)\n",
    "b[0][0] = 123\n",
    "print id(a), id(a[0]), a\n",
    "print id(b), id(b[0]), b"
   ]
  },
  {
   "cell_type": "markdown",
   "metadata": {
    "slideshow": {
     "slide_type": "subslide"
    }
   },
   "source": [
    "# 一些好用的function"
   ]
  },
  {
   "cell_type": "code",
   "execution_count": 35,
   "metadata": {
    "collapsed": false,
    "slideshow": {
     "slide_type": "fragment"
    }
   },
   "outputs": [
    {
     "name": "stdout",
     "output_type": "stream",
     "text": [
      "[1, 2, 3]\n",
      "[1, 2, 3, 4]\n"
     ]
    }
   ],
   "source": [
    "a = [1,2,3]\n",
    "print a\n",
    "a.append(4)\n",
    "print a"
   ]
  },
  {
   "cell_type": "code",
   "execution_count": 36,
   "metadata": {
    "collapsed": true,
    "slideshow": {
     "slide_type": "fragment"
    }
   },
   "outputs": [],
   "source": [
    "a.append([5])"
   ]
  },
  {
   "cell_type": "code",
   "execution_count": 37,
   "metadata": {
    "collapsed": false,
    "slideshow": {
     "slide_type": "fragment"
    }
   },
   "outputs": [
    {
     "name": "stdout",
     "output_type": "stream",
     "text": [
      "[1, 2, 3, 4, [5]]\n"
     ]
    }
   ],
   "source": [
    "print a"
   ]
  },
  {
   "cell_type": "code",
   "execution_count": 38,
   "metadata": {
    "collapsed": true,
    "slideshow": {
     "slide_type": "fragment"
    }
   },
   "outputs": [],
   "source": [
    "a.extend([6])"
   ]
  },
  {
   "cell_type": "code",
   "execution_count": 39,
   "metadata": {
    "collapsed": false,
    "slideshow": {
     "slide_type": "fragment"
    }
   },
   "outputs": [
    {
     "name": "stdout",
     "output_type": "stream",
     "text": [
      "[1, 2, 3, 4, [5], 6]\n"
     ]
    }
   ],
   "source": [
    "print a"
   ]
  },
  {
   "cell_type": "code",
   "execution_count": 40,
   "metadata": {
    "collapsed": false,
    "slideshow": {
     "slide_type": "fragment"
    }
   },
   "outputs": [
    {
     "name": "stdout",
     "output_type": "stream",
     "text": [
      "['AAA', 1, 2, 3, 4, [5], 6]\n"
     ]
    }
   ],
   "source": [
    "a.insert(0,'AAA')\n",
    "print a"
   ]
  },
  {
   "cell_type": "code",
   "execution_count": 41,
   "metadata": {
    "collapsed": false,
    "slideshow": {
     "slide_type": "fragment"
    }
   },
   "outputs": [
    {
     "name": "stdout",
     "output_type": "stream",
     "text": [
      "[1, 2, 3, 4, [5], 6]\n"
     ]
    }
   ],
   "source": [
    "del a[0]\n",
    "print a"
   ]
  },
  {
   "cell_type": "markdown",
   "metadata": {
    "slideshow": {
     "slide_type": "subslide"
    }
   },
   "source": [
    "# join()"
   ]
  },
  {
   "cell_type": "code",
   "execution_count": 42,
   "metadata": {
    "collapsed": false,
    "slideshow": {
     "slide_type": "fragment"
    }
   },
   "outputs": [
    {
     "name": "stdout",
     "output_type": "stream",
     "text": [
      "Hello World\n"
     ]
    }
   ],
   "source": [
    "some_list = [\"Hello\",\"World\"]\n",
    "print \" \".join(some_list)"
   ]
  },
  {
   "cell_type": "markdown",
   "metadata": {
    "slideshow": {
     "slide_type": "subslide"
    }
   },
   "source": [
    "# 還記得剛剛我們說字串用 + 合起來是很慢的嗎？"
   ]
  },
  {
   "cell_type": "code",
   "execution_count": 43,
   "metadata": {
    "collapsed": false,
    "slideshow": {
     "slide_type": "fragment"
    }
   },
   "outputs": [
    {
     "name": "stdout",
     "output_type": "stream",
     "text": [
      "Hello World!\n"
     ]
    }
   ],
   "source": [
    "string1 = \"Hello\"\n",
    "string2 = \"World!\"\n",
    "string3 = string1 + \" \" + string2\n",
    "print string3"
   ]
  },
  {
   "cell_type": "markdown",
   "metadata": {
    "slideshow": {
     "slide_type": "fragment"
    }
   },
   "source": [
    "# This is more efficient!"
   ]
  },
  {
   "cell_type": "code",
   "execution_count": 44,
   "metadata": {
    "collapsed": false,
    "slideshow": {
     "slide_type": "fragment"
    }
   },
   "outputs": [
    {
     "name": "stdout",
     "output_type": "stream",
     "text": [
      "Hello World!\n"
     ]
    }
   ],
   "source": [
    "string1 = \"Hello\"\n",
    "string2 = \"World!\"\n",
    "print \" \".join([ string1, string2 ])"
   ]
  },
  {
   "cell_type": "markdown",
   "metadata": {
    "slideshow": {
     "slide_type": "subslide"
    }
   },
   "source": [
    "# Compare"
   ]
  },
  {
   "cell_type": "code",
   "execution_count": 45,
   "metadata": {
    "collapsed": false,
    "slideshow": {
     "slide_type": "fragment"
    }
   },
   "outputs": [
    {
     "name": "stdout",
     "output_type": "stream",
     "text": [
      "4.84675383568\n"
     ]
    }
   ],
   "source": [
    "import time\n",
    "t = time.time()\n",
    "string = [ str(i) for i in xrange(10**7) ]\n",
    "# 此語法之後會有更詳細的介紹\n",
    "# 這邊只是先產生一個含有許多數字字串的list\n",
    "print time.time() - t"
   ]
  },
  {
   "cell_type": "code",
   "execution_count": 46,
   "metadata": {
    "collapsed": false,
    "slideshow": {
     "slide_type": "fragment"
    }
   },
   "outputs": [
    {
     "name": "stdout",
     "output_type": "stream",
     "text": [
      "1.01260209084\n"
     ]
    }
   ],
   "source": [
    "t = time.time()\n",
    "approach1 = \"_\".join(string)\n",
    "print time.time() - t"
   ]
  },
  {
   "cell_type": "code",
   "execution_count": 47,
   "metadata": {
    "collapsed": false,
    "slideshow": {
     "slide_type": "fragment"
    }
   },
   "outputs": [
    {
     "name": "stdout",
     "output_type": "stream",
     "text": [
      "4.24348306656\n"
     ]
    }
   ],
   "source": [
    "t = time.time()\n",
    "approach2 = string[0]\n",
    "for s in string[1:]:\n",
    "    approach2 += \"_\"+s\n",
    "print time.time() - t"
   ]
  },
  {
   "cell_type": "markdown",
   "metadata": {
    "slideshow": {
     "slide_type": "fragment"
    }
   },
   "source": [
    "# join() is more efficient!"
   ]
  },
  {
   "cell_type": "markdown",
   "metadata": {
    "slideshow": {
     "slide_type": "subslide"
    }
   },
   "source": [
    "# list slice"
   ]
  },
  {
   "cell_type": "code",
   "execution_count": 48,
   "metadata": {
    "collapsed": false,
    "slideshow": {
     "slide_type": "fragment"
    }
   },
   "outputs": [],
   "source": [
    "a = [0,1,2,3,4,5,6]"
   ]
  },
  {
   "cell_type": "markdown",
   "metadata": {
    "slideshow": {
     "slide_type": "fragment"
    }
   },
   "source": [
    "# 到底會印出什麼呢？\n",
    "> print a[1:-1] <br> \n",
    "> print a[:-1] <br>\n",
    "> print a[::-1] <br>\n",
    "> print a[::2] <br>"
   ]
  },
  {
   "cell_type": "code",
   "execution_count": 49,
   "metadata": {
    "collapsed": false,
    "slideshow": {
     "slide_type": "fragment"
    }
   },
   "outputs": [
    {
     "name": "stdout",
     "output_type": "stream",
     "text": [
      "[1, 2, 3, 4, 5]\n",
      "[0, 1, 2, 3, 4, 5]\n",
      "[6, 5, 4, 3, 2, 1, 0]\n",
      "[0, 2, 4, 6]\n"
     ]
    }
   ],
   "source": [
    "print a[1:-1]\n",
    "print a[:-1]\n",
    "print a[::-1]\n",
    "print a[::2]"
   ]
  },
  {
   "cell_type": "markdown",
   "metadata": {
    "slideshow": {
     "slide_type": "subslide"
    }
   },
   "source": [
    "# Sorting"
   ]
  },
  {
   "cell_type": "code",
   "execution_count": 50,
   "metadata": {
    "collapsed": false,
    "slideshow": {
     "slide_type": "fragment"
    }
   },
   "outputs": [
    {
     "name": "stdout",
     "output_type": "stream",
     "text": [
      "[1, 5, 6, 10, 123]\n",
      "[123, 1, 5, 6, 10]\n"
     ]
    }
   ],
   "source": [
    "a = [ 123, 1, 5, 6, 10 ]\n",
    "print sorted(a)\n",
    "print a"
   ]
  },
  {
   "cell_type": "code",
   "execution_count": 2,
   "metadata": {
    "collapsed": true,
    "slideshow": {
     "slide_type": "subslide"
    }
   },
   "outputs": [],
   "source": [
    "a = [ [123,\"Apple\"], [1,\"Rotten Apple\"], [5,\"Orange\"], [6,\"Banana\"], [10,\"Bala\"] ]"
   ]
  },
  {
   "cell_type": "markdown",
   "metadata": {
    "slideshow": {
     "slide_type": "fragment"
    }
   },
   "source": [
    "# How to sort by number?"
   ]
  },
  {
   "cell_type": "code",
   "execution_count": 3,
   "metadata": {
    "collapsed": false,
    "slideshow": {
     "slide_type": "fragment"
    }
   },
   "outputs": [
    {
     "name": "stdout",
     "output_type": "stream",
     "text": [
      "[[1, 'Rotten Apple'], [5, 'Orange'], [6, 'Banana'], [10, 'Bala'], [123, 'Apple']]\n",
      "[[123, 'Apple'], [10, 'Bala'], [6, 'Banana'], [5, 'Orange'], [1, 'Rotten Apple']]\n",
      "[[1, 'Rotten Apple'], [5, 'Orange'], [6, 'Banana'], [10, 'Bala'], [123, 'Apple']]\n"
     ]
    }
   ],
   "source": [
    "print sorted(a,key = lambda x:x[0])\n",
    "print sorted(a,key = lambda x:x[1])\n",
    "print sorted(a,key = lambda x:x[1], reverse=True)"
   ]
  },
  {
   "cell_type": "markdown",
   "metadata": {
    "slideshow": {
     "slide_type": "subslide"
    }
   },
   "source": [
    "# Counter\n",
    "an easy approach to count"
   ]
  },
  {
   "cell_type": "code",
   "execution_count": 4,
   "metadata": {
    "collapsed": true,
    "slideshow": {
     "slide_type": "fragment"
    }
   },
   "outputs": [],
   "source": [
    "data = [ 'apple', 'apple', 'banana', 'banana', 'orange', 'orange', 'orange' ]"
   ]
  },
  {
   "cell_type": "markdown",
   "metadata": {
    "slideshow": {
     "slide_type": "fragment"
    }
   },
   "source": [
    "# How to count?"
   ]
  },
  {
   "cell_type": "code",
   "execution_count": 5,
   "metadata": {
    "collapsed": true,
    "slideshow": {
     "slide_type": "fragment"
    }
   },
   "outputs": [],
   "source": [
    "from collections import Counter"
   ]
  },
  {
   "cell_type": "code",
   "execution_count": 6,
   "metadata": {
    "collapsed": false,
    "slideshow": {
     "slide_type": "fragment"
    }
   },
   "outputs": [
    {
     "name": "stdout",
     "output_type": "stream",
     "text": [
      "Counter({'orange': 3, 'apple': 2, 'banana': 2})\n",
      "2\n",
      "[('orange', 3), ('apple', 2), ('banana', 2)]\n",
      "[('orange', 3), ('apple', 2)]\n"
     ]
    }
   ],
   "source": [
    "ctr = Counter(data)\n",
    "print ctr\n",
    "print ctr['apple']\n",
    "print ctr.most_common()\n",
    "print ctr.most_common(2)"
   ]
  },
  {
   "cell_type": "markdown",
   "metadata": {
    "slideshow": {
     "slide_type": "slide"
    }
   },
   "source": [
    "# 8. tuple\n",
    "> 宣告: tuple() or 直接打(,)\n",
    "\n",
    "基本上就是個值不能被修改的list"
   ]
  },
  {
   "cell_type": "code",
   "execution_count": 56,
   "metadata": {
    "collapsed": false,
    "slideshow": {
     "slide_type": "fragment"
    }
   },
   "outputs": [
    {
     "name": "stdout",
     "output_type": "stream",
     "text": [
      "(1, 2, 3)\n",
      "(1, 2, 3)\n"
     ]
    }
   ],
   "source": [
    "t = (1,2,3)\n",
    "t2 = tuple([1,2,3])\n",
    "print t\n",
    "print t2"
   ]
  },
  {
   "cell_type": "code",
   "execution_count": 57,
   "metadata": {
    "collapsed": false,
    "slideshow": {
     "slide_type": "fragment"
    }
   },
   "outputs": [
    {
     "ename": "TypeError",
     "evalue": "'tuple' object does not support item assignment",
     "output_type": "error",
     "traceback": [
      "\u001b[0;31m---------------------------------------------------------------------------\u001b[0m",
      "\u001b[0;31mTypeError\u001b[0m                                 Traceback (most recent call last)",
      "\u001b[0;32m<ipython-input-57-73e81574f998>\u001b[0m in \u001b[0;36m<module>\u001b[0;34m()\u001b[0m\n\u001b[0;32m----> 1\u001b[0;31m \u001b[0mt\u001b[0m\u001b[0;34m[\u001b[0m\u001b[0;36m0\u001b[0m\u001b[0;34m]\u001b[0m \u001b[0;34m=\u001b[0m \u001b[0;34m\"Change it!\"\u001b[0m\u001b[0;34m\u001b[0m\u001b[0m\n\u001b[0m",
      "\u001b[0;31mTypeError\u001b[0m: 'tuple' object does not support item assignment"
     ]
    }
   ],
   "source": [
    "t[0] = \"Change it!\""
   ]
  },
  {
   "cell_type": "markdown",
   "metadata": {
    "slideshow": {
     "slide_type": "slide"
    }
   },
   "source": [
    "# 如果想知道list裡到底有幾種相異字串怎麼做呢？"
   ]
  },
  {
   "cell_type": "code",
   "execution_count": 58,
   "metadata": {
    "collapsed": false,
    "slideshow": {
     "slide_type": "fragment"
    }
   },
   "outputs": [
    {
     "name": "stdout",
     "output_type": "stream",
     "text": [
      "apple, banana, orange\n"
     ]
    }
   ],
   "source": [
    "data = [ 'apple', 'apple', 'banana', 'banana', 'orange', 'orange', 'orange' ]\n",
    "\"\"\"do something\"\"\"\n",
    "print \"apple, banana, orange\""
   ]
  },
  {
   "cell_type": "markdown",
   "metadata": {
    "slideshow": {
     "slide_type": "subslide"
    }
   },
   "source": [
    "# 9. set\n",
    "> 宣告: set(x), x需為list"
   ]
  },
  {
   "cell_type": "code",
   "execution_count": 59,
   "metadata": {
    "collapsed": false,
    "slideshow": {
     "slide_type": "fragment"
    }
   },
   "outputs": [
    {
     "name": "stdout",
     "output_type": "stream",
     "text": [
      "set(['orange', 'apple', 'banana'])\n"
     ]
    }
   ],
   "source": [
    "data_set = set(data)\n",
    "print data_set"
   ]
  },
  {
   "cell_type": "markdown",
   "metadata": {
    "slideshow": {
     "slide_type": "subslide"
    }
   },
   "source": [
    "# 一些常見操作"
   ]
  },
  {
   "cell_type": "code",
   "execution_count": 60,
   "metadata": {
    "collapsed": false,
    "slideshow": {
     "slide_type": "fragment"
    }
   },
   "outputs": [
    {
     "name": "stdout",
     "output_type": "stream",
     "text": [
      "set(['rotten apple', 'apple', 'orange', 'banana', 'bala', 'Pea'])\n"
     ]
    }
   ],
   "source": [
    "data_set.add(\"rotten apple\") # 直接加入一個元素\n",
    "data_set = data_set | set([\"bala\",\"Pea\"]) # 用連集的方式加入\n",
    "print data_set"
   ]
  },
  {
   "cell_type": "code",
   "execution_count": 61,
   "metadata": {
    "collapsed": false,
    "slideshow": {
     "slide_type": "fragment"
    }
   },
   "outputs": [
    {
     "name": "stdout",
     "output_type": "stream",
     "text": [
      "set(['apple', 'orange', 'banana', 'bala', 'Pea'])\n"
     ]
    }
   ],
   "source": [
    "data_set.remove(\"rotten apple\")\n",
    "print data_set"
   ]
  },
  {
   "cell_type": "code",
   "execution_count": 62,
   "metadata": {
    "collapsed": false,
    "slideshow": {
     "slide_type": "fragment"
    }
   },
   "outputs": [
    {
     "name": "stdout",
     "output_type": "stream",
     "text": [
      "set(['orange', 'apple'])\n"
     ]
    }
   ],
   "source": [
    "good_fruit = set([\"golden apple\",\"orange\",\"apple\"])\n",
    "print data_set & good_fruit # 交集"
   ]
  },
  {
   "cell_type": "markdown",
   "metadata": {
    "slideshow": {
     "slide_type": "slide"
    }
   },
   "source": [
    "# 10. dictionary\n",
    "> 宣告: {key:value}, dict()\n",
    "\n",
    "dictionary是用{key: value}pair的方式紀錄資料，而這種紀錄格式也可稱作json"
   ]
  },
  {
   "cell_type": "code",
   "execution_count": 63,
   "metadata": {
    "collapsed": false,
    "slideshow": {
     "slide_type": "fragment"
    }
   },
   "outputs": [
    {
     "name": "stdout",
     "output_type": "stream",
     "text": [
      "{'Jim': 60, 'John': 80, 'Mary': 50}\n",
      "60\n"
     ]
    }
   ],
   "source": [
    "weight_dic = {\"Mary\":50, \"John\":80, \"Jim\":60}\n",
    "print weight_dic\n",
    "print weight_dic['Jim']"
   ]
  },
  {
   "cell_type": "markdown",
   "metadata": {
    "slideshow": {
     "slide_type": "fragment"
    }
   },
   "source": [
    "\"Jim\",\"Mary\",\"John\"為這個字典的key值，而50,80,60為對應的value"
   ]
  },
  {
   "cell_type": "code",
   "execution_count": 64,
   "metadata": {
    "collapsed": false,
    "slideshow": {
     "slide_type": "fragment"
    }
   },
   "outputs": [
    {
     "name": "stdout",
     "output_type": "stream",
     "text": [
      "{'Amy': 30, 'John': 80, 'Mary': 50}\n"
     ]
    }
   ],
   "source": [
    "weight_dic['Amy'] = 30 # 增加內容\n",
    "del weight_dic[\"Jim\"] # 刪除內容\n",
    "print weight_dic"
   ]
  },
  {
   "cell_type": "markdown",
   "metadata": {
    "slideshow": {
     "slide_type": "subslide"
    }
   },
   "source": [
    "# dictionary裡也可以放很複雜的東西"
   ]
  },
  {
   "cell_type": "code",
   "execution_count": 65,
   "metadata": {
    "collapsed": false,
    "slideshow": {
     "slide_type": "fragment"
    }
   },
   "outputs": [
    {
     "name": "stdout",
     "output_type": "stream",
     "text": [
      "{0: 123, 'A': [123, {1: 456}]}\n"
     ]
    }
   ],
   "source": [
    "dic = {0: 123,\"A\":[123,{1:456}]}\n",
    "print dic"
   ]
  },
  {
   "cell_type": "markdown",
   "metadata": {
    "slideshow": {
     "slide_type": "fragment"
    }
   },
   "source": [
    "# 甚至可以用tuple來當作key!\n",
    "p.s. list是不可以拿來當作key的，因為他的值可能會改變"
   ]
  },
  {
   "cell_type": "code",
   "execution_count": 66,
   "metadata": {
    "collapsed": false,
    "slideshow": {
     "slide_type": "fragment"
    }
   },
   "outputs": [
    {
     "name": "stdout",
     "output_type": "stream",
     "text": [
      "{0: 123, 'A': [123, {1: 456}], ('Mary', 100, '0204-888999'): True}\n"
     ]
    }
   ],
   "source": [
    "dic[(\"Mary\",100,\"0204-888999\")] = True\n",
    "print dic"
   ]
  },
  {
   "cell_type": "markdown",
   "metadata": {
    "slideshow": {
     "slide_type": "subslide"
    }
   },
   "source": [
    "# 一些常用的function"
   ]
  },
  {
   "cell_type": "code",
   "execution_count": 67,
   "metadata": {
    "collapsed": false,
    "slideshow": {
     "slide_type": "fragment"
    }
   },
   "outputs": [
    {
     "name": "stdout",
     "output_type": "stream",
     "text": [
      "['Amy', 'John', 'Mary']\n",
      "[30, 80, 50]\n",
      "[('Amy', 30), ('John', 80), ('Mary', 50)]\n"
     ]
    }
   ],
   "source": [
    "print weight_dic.keys()\n",
    "print weight_dic.values()\n",
    "print weight_dic.items()"
   ]
  },
  {
   "cell_type": "markdown",
   "metadata": {
    "slideshow": {
     "slide_type": "slide"
    }
   },
   "source": [
    "# 11. 迴圈"
   ]
  },
  {
   "cell_type": "code",
   "execution_count": 68,
   "metadata": {
    "collapsed": false,
    "slideshow": {
     "slide_type": "fragment"
    }
   },
   "outputs": [
    {
     "name": "stdout",
     "output_type": "stream",
     "text": [
      "apple\n",
      "banana\n",
      "orange\n"
     ]
    }
   ],
   "source": [
    "data = [\"apple\", \"banana\", \"orange\"]\n",
    "for i in data:\n",
    "    print i"
   ]
  },
  {
   "cell_type": "code",
   "execution_count": 69,
   "metadata": {
    "collapsed": false,
    "slideshow": {
     "slide_type": "fragment"
    }
   },
   "outputs": [
    {
     "name": "stdout",
     "output_type": "stream",
     "text": [
      "0\n",
      "1\n",
      "2\n"
     ]
    }
   ],
   "source": [
    "for i in range(3):\n",
    "    print i"
   ]
  },
  {
   "cell_type": "markdown",
   "metadata": {
    "slideshow": {
     "slide_type": "subslide"
    }
   },
   "source": [
    "# range()"
   ]
  },
  {
   "cell_type": "code",
   "execution_count": 70,
   "metadata": {
    "collapsed": false,
    "slideshow": {
     "slide_type": "fragment"
    }
   },
   "outputs": [
    {
     "name": "stdout",
     "output_type": "stream",
     "text": [
      "[0, 1, 2, 3, 4]\n",
      "[1, 2]\n",
      "[2, 5]\n",
      "[]\n",
      "[8, 6, 4]\n"
     ]
    }
   ],
   "source": [
    "print range(5)\n",
    "print range(1,3)\n",
    "\n",
    "print range(2,8,3)\n",
    "print range(8,2)\n",
    "print range(8,2,-2)\n"
   ]
  },
  {
   "cell_type": "markdown",
   "metadata": {
    "slideshow": {
     "slide_type": "subslide"
    }
   },
   "source": [
    "# 我有一個字典，怎麼把裡面的key value都印出來呢？\n",
    "(不需考慮次序，只要每個key value都能被跑到一次就好)"
   ]
  },
  {
   "cell_type": "code",
   "execution_count": 7,
   "metadata": {
    "collapsed": true,
    "slideshow": {
     "slide_type": "-"
    }
   },
   "outputs": [],
   "source": [
    "dictionary = {\n",
    "    \"John\": 12345,\n",
    "    \"Mary\": 23456,\n",
    "    \"Jim\": 33333\n",
    "}"
   ]
  },
  {
   "cell_type": "markdown",
   "metadata": {},
   "source": [
    "也就是，印出這個\n",
    "> Jim 33333 <br>\n",
    "> John 12345 <br>\n",
    "> Mary 23456 <br>"
   ]
  },
  {
   "cell_type": "code",
   "execution_count": 8,
   "metadata": {
    "collapsed": false,
    "slideshow": {
     "slide_type": "fragment"
    }
   },
   "outputs": [
    {
     "name": "stdout",
     "output_type": "stream",
     "text": [
      "Jim 33333\n",
      "John 12345\n",
      "Mary 23456\n"
     ]
    }
   ],
   "source": [
    "for k, v in dictionary.items():\n",
    "    print k, v"
   ]
  },
  {
   "cell_type": "code",
   "execution_count": 71,
   "metadata": {
    "collapsed": true,
    "slideshow": {
     "slide_type": "subslide"
    }
   },
   "outputs": [],
   "source": [
    "data = [(\"Amy\", \"A\", \"t0\"),\n",
    "        (\"Amy\", \"B\", \"t0\"),\n",
    "        (\"Jim\", \"C\", \"t0\"),\n",
    "        (\"Jim\", \"A\", \"t0\"),\n",
    "        (\"Amy\", \"A\", \"t1\"),\n",
    "        (\"Jim\", \"A\", \"t1\"),\n",
    "        (\"Jim\", \"A\", \"t1\"),\n",
    "       ]"
   ]
  },
  {
   "cell_type": "markdown",
   "metadata": {
    "slideshow": {
     "slide_type": "-"
    }
   },
   "source": [
    "這是一個交易資料表 <br>\n",
    "在每一個tuple裡 <br>\n",
    "第0個元素為購買者 <br>\n",
    "第1個元素為商品 <br>\n",
    "第2個元素為購買時間點"
   ]
  },
  {
   "cell_type": "markdown",
   "metadata": {
    "slideshow": {
     "slide_type": "fragment"
    }
   },
   "source": [
    "# 請問，如何整理出我們有幾筆交易資料(transaction)呢？\n",
    "亦即...\n",
    "> ['A', 'B'] <br>\n",
    "> ['A'] <br>\n",
    "> ['C', 'A'] <br>\n",
    "> ['A', 'A'] <br>"
   ]
  },
  {
   "cell_type": "code",
   "execution_count": 73,
   "metadata": {
    "collapsed": false,
    "slideshow": {
     "slide_type": "fragment"
    }
   },
   "outputs": [
    {
     "name": "stdout",
     "output_type": "stream",
     "text": [
      "['A', 'B']\n",
      "['A']\n",
      "['C', 'A']\n",
      "['A', 'A']\n"
     ]
    }
   ],
   "source": [
    "dic = {}\n",
    "for d in data:\n",
    "    key = (d[0],d[2])\n",
    "    if key not in dic:\n",
    "        dic[key] = []\n",
    "    dic[key].append(d[1])\n",
    "    \n",
    "for transaction in dic.values():\n",
    "    print transaction"
   ]
  },
  {
   "cell_type": "markdown",
   "metadata": {
    "slideshow": {
     "slide_type": "subslide"
    }
   },
   "source": [
    "# xrange()\n",
    "一般來說在跑迴圈時不要使用range，用xrange會比較好！"
   ]
  },
  {
   "cell_type": "code",
   "execution_count": 103,
   "metadata": {
    "collapsed": false,
    "slideshow": {
     "slide_type": "fragment"
    }
   },
   "outputs": [
    {
     "name": "stdout",
     "output_type": "stream",
     "text": [
      "0 1 2 3 4 5 6 7 8 9\n"
     ]
    }
   ],
   "source": [
    "for i in range(10):\n",
    "    print i,"
   ]
  },
  {
   "cell_type": "markdown",
   "metadata": {
    "slideshow": {
     "slide_type": "fragment"
    }
   },
   "source": [
    "range(10) 會先產生好10個元素，等待迴圈直行到他 <br>\n",
    "因此每執行一輪迴圈，就有9個元素被放著不動 <br>\n",
    "試想如果要執行10**10，電腦可能會跑不動"
   ]
  },
  {
   "cell_type": "code",
   "execution_count": 104,
   "metadata": {
    "collapsed": false,
    "slideshow": {
     "slide_type": "subslide"
    }
   },
   "outputs": [
    {
     "name": "stdout",
     "output_type": "stream",
     "text": [
      "0 1 2 3 4 5 6 7 8 9\n"
     ]
    }
   ],
   "source": [
    "for i in xrange(10):\n",
    "    print i,"
   ]
  },
  {
   "cell_type": "code",
   "execution_count": 105,
   "metadata": {
    "collapsed": false,
    "slideshow": {
     "slide_type": "fragment"
    }
   },
   "outputs": [
    {
     "name": "stdout",
     "output_type": "stream",
     "text": [
      "xrange(10)\n"
     ]
    }
   ],
   "source": [
    "print xrange(10)"
   ]
  },
  {
   "cell_type": "markdown",
   "metadata": {
    "slideshow": {
     "slide_type": "fragment"
    }
   },
   "source": [
    "xrange(10)和range(10)不同 <br>\n",
    "他會在每次執行時才吐出該輪的i <br>\n",
    "這也就是所謂的<i><b>generator</b></i>"
   ]
  },
  {
   "cell_type": "markdown",
   "metadata": {
    "slideshow": {
     "slide_type": "subslide"
    }
   },
   "source": [
    "# 如果我在印迴圈時，我想知道這是第幾個怎麼辦呢？"
   ]
  },
  {
   "cell_type": "code",
   "execution_count": 74,
   "metadata": {
    "collapsed": true,
    "slideshow": {
     "slide_type": "-"
    }
   },
   "outputs": [],
   "source": [
    "data = [('Amy',30),('Jimmy',50),('Jack',100)]"
   ]
  },
  {
   "cell_type": "code",
   "execution_count": 75,
   "metadata": {
    "collapsed": false,
    "slideshow": {
     "slide_type": "fragment"
    }
   },
   "outputs": [
    {
     "name": "stdout",
     "output_type": "stream",
     "text": [
      "0 Amy 30\n",
      "1 Jimmy 50\n",
      "2 Jack 100\n"
     ]
    }
   ],
   "source": [
    "idx = 0\n",
    "for name, weight in data:\n",
    "    print idx, name, weight\n",
    "    idx += 1"
   ]
  },
  {
   "cell_type": "markdown",
   "metadata": {
    "slideshow": {
     "slide_type": "fragment"
    }
   },
   "source": [
    "# enumerate()"
   ]
  },
  {
   "cell_type": "code",
   "execution_count": 76,
   "metadata": {
    "collapsed": false,
    "slideshow": {
     "slide_type": "fragment"
    }
   },
   "outputs": [
    {
     "name": "stdout",
     "output_type": "stream",
     "text": [
      "0 Amy 30\n",
      "1 Jimmy 50\n",
      "2 Jack 100\n"
     ]
    }
   ],
   "source": [
    "for idx, (name,weight) in enumerate(data):\n",
    "    print idx, name, weight"
   ]
  },
  {
   "cell_type": "markdown",
   "metadata": {
    "slideshow": {
     "slide_type": "subslide"
    }
   },
   "source": [
    "# 如果我有兩條list，要怎麼一起印？"
   ]
  },
  {
   "cell_type": "code",
   "execution_count": 77,
   "metadata": {
    "collapsed": true,
    "slideshow": {
     "slide_type": "-"
    }
   },
   "outputs": [],
   "source": [
    "name = [\"Jim\",\"Amy\",\"John\"]\n",
    "weight = [40,50,60]"
   ]
  },
  {
   "cell_type": "code",
   "execution_count": 78,
   "metadata": {
    "collapsed": false,
    "slideshow": {
     "slide_type": "fragment"
    }
   },
   "outputs": [
    {
     "name": "stdout",
     "output_type": "stream",
     "text": [
      "Jim 40\n",
      "Amy 50\n",
      "John 60\n"
     ]
    }
   ],
   "source": [
    "for i in xrange(len(name)):\n",
    "    print name[i], weight[i]"
   ]
  },
  {
   "cell_type": "markdown",
   "metadata": {
    "slideshow": {
     "slide_type": "fragment"
    }
   },
   "source": [
    "# zip()"
   ]
  },
  {
   "cell_type": "code",
   "execution_count": 79,
   "metadata": {
    "collapsed": false,
    "slideshow": {
     "slide_type": "fragment"
    }
   },
   "outputs": [
    {
     "name": "stdout",
     "output_type": "stream",
     "text": [
      "Jim 40\n",
      "Amy 50\n",
      "John 60\n"
     ]
    }
   ],
   "source": [
    "for n, w in zip(name,weight):\n",
    "    print n, w"
   ]
  },
  {
   "cell_type": "markdown",
   "metadata": {
    "slideshow": {
     "slide_type": "slide"
    }
   },
   "source": [
    "# 如何只留下Amy的交易紀錄？"
   ]
  },
  {
   "cell_type": "code",
   "execution_count": 80,
   "metadata": {
    "collapsed": true,
    "slideshow": {
     "slide_type": "-"
    }
   },
   "outputs": [],
   "source": [
    "data = [(\"Amy\", \"A\", \"t0\"),\n",
    "        (\"Amy\", \"B\", \"t0\"),\n",
    "        (\"Jim\", \"C\", \"t0\"),\n",
    "        (\"Jim\", \"A\", \"t0\"),\n",
    "        (\"Amy\", \"A\", \"t1\"),\n",
    "        (\"Jim\", \"A\", \"t1\"),\n",
    "        (\"Jim\", \"A\", \"t1\"),\n",
    "       ]"
   ]
  },
  {
   "cell_type": "code",
   "execution_count": 81,
   "metadata": {
    "collapsed": false,
    "slideshow": {
     "slide_type": "fragment"
    }
   },
   "outputs": [
    {
     "name": "stdout",
     "output_type": "stream",
     "text": [
      "[('Amy', 'A', 't0'), ('Amy', 'B', 't0'), ('Amy', 'A', 't1')]\n"
     ]
    }
   ],
   "source": [
    "Amy_data = []\n",
    "for d in data:\n",
    "    if d[0] == 'Amy':\n",
    "        Amy_data.append(d)\n",
    "print Amy_data"
   ]
  },
  {
   "cell_type": "markdown",
   "metadata": {
    "slideshow": {
     "slide_type": "fragment"
    }
   },
   "source": [
    "# 12. list comprehension"
   ]
  },
  {
   "cell_type": "code",
   "execution_count": 82,
   "metadata": {
    "collapsed": false,
    "slideshow": {
     "slide_type": "fragment"
    }
   },
   "outputs": [
    {
     "name": "stdout",
     "output_type": "stream",
     "text": [
      "[('Amy', 'A', 't0'), ('Amy', 'B', 't0'), ('Amy', 'A', 't1')]\n"
     ]
    }
   ],
   "source": [
    "Amy_data = [ d for d in data if d[0] == 'Amy' ]\n",
    "print Amy_data"
   ]
  },
  {
   "cell_type": "markdown",
   "metadata": {
    "slideshow": {
     "slide_type": "subslide"
    }
   },
   "source": [
    "# 如何一行程式碼算出各時間點賣出了多少商品？\n",
    "亦即... <br>\n",
    "t0: 4  <br>\n",
    "t1: 3  <br>"
   ]
  },
  {
   "cell_type": "code",
   "execution_count": 83,
   "metadata": {
    "collapsed": false,
    "slideshow": {
     "slide_type": "fragment"
    }
   },
   "outputs": [
    {
     "name": "stdout",
     "output_type": "stream",
     "text": [
      "{'t0': 4, 't1': 3}\n"
     ]
    }
   ],
   "source": [
    "sales = { time:sum([ 1 for d in data if d[2] == time ]) for customer, item, time in data }\n",
    "print sales"
   ]
  },
  {
   "cell_type": "markdown",
   "metadata": {
    "slideshow": {
     "slide_type": "subslide"
    }
   },
   "source": [
    "# Why list comprehension?\n",
    "1. 語法簡潔\n",
    "2. 效能更快！"
   ]
  },
  {
   "cell_type": "code",
   "execution_count": 84,
   "metadata": {
    "collapsed": false,
    "slideshow": {
     "slide_type": "fragment"
    }
   },
   "outputs": [
    {
     "name": "stdout",
     "output_type": "stream",
     "text": [
      "26.8905220032\n"
     ]
    }
   ],
   "source": [
    "# 執行前請小心，這可能會要了你記憶體的命\n",
    "t = time.time()\n",
    "data = []\n",
    "\n",
    "for i in xrange(10**8):\n",
    "    if i % 2 == 0:\n",
    "        data.append(i)\n",
    "        \n",
    "print time.time() - t"
   ]
  },
  {
   "cell_type": "code",
   "execution_count": 85,
   "metadata": {
    "collapsed": false,
    "slideshow": {
     "slide_type": "skip"
    }
   },
   "outputs": [
    {
     "data": {
      "text/plain": [
       "0"
      ]
     },
     "execution_count": 85,
     "metadata": {},
     "output_type": "execute_result"
    }
   ],
   "source": [
    "# 之後會說明此段code\n",
    "import gc\n",
    "# del data\n",
    "gc.collect()"
   ]
  },
  {
   "cell_type": "code",
   "execution_count": 100,
   "metadata": {
    "collapsed": false,
    "slideshow": {
     "slide_type": "fragment"
    }
   },
   "outputs": [
    {
     "name": "stdout",
     "output_type": "stream",
     "text": [
      "19.2529499531\n"
     ]
    }
   ],
   "source": [
    "# 執行前請小心，這可能會要了你記憶體的命\n",
    "t = time.time()\n",
    "\n",
    "data = [ i for i in xrange(10**8) if i % 2 == 0]\n",
    "\n",
    "print time.time() - t"
   ]
  },
  {
   "cell_type": "code",
   "execution_count": 101,
   "metadata": {
    "collapsed": false,
    "slideshow": {
     "slide_type": "skip"
    }
   },
   "outputs": [
    {
     "data": {
      "text/plain": [
       "0"
      ]
     },
     "execution_count": 101,
     "metadata": {},
     "output_type": "execute_result"
    }
   ],
   "source": [
    "# 之後會說明此段code\n",
    "del data\n",
    "gc.collect()"
   ]
  },
  {
   "cell_type": "markdown",
   "metadata": {
    "slideshow": {
     "slide_type": "slide"
    }
   },
   "source": [
    "# 13. function\n",
    "> 宣告: def some_function(parameter)\n",
    "\n",
    "<i><b>some_function</b></i>: function的名字 <br>\n",
    "<i><b>parameter</b></i>: 要丟給function的參數，可以不設，也可以設各種各樣的型態的變數給他"
   ]
  },
  {
   "cell_type": "code",
   "execution_count": 106,
   "metadata": {
    "collapsed": false,
    "slideshow": {
     "slide_type": "fragment"
    }
   },
   "outputs": [
    {
     "name": "stdout",
     "output_type": "stream",
     "text": [
      "3\n"
     ]
    }
   ],
   "source": [
    "def add(a,b):\n",
    "    return a+b\n",
    "\n",
    "print add(1,2)"
   ]
  },
  {
   "cell_type": "markdown",
   "metadata": {
    "slideshow": {
     "slide_type": "subslide"
    }
   },
   "source": [
    "# 一些好用的built in function(內建函式)"
   ]
  },
  {
   "cell_type": "code",
   "execution_count": 108,
   "metadata": {
    "collapsed": false
   },
   "outputs": [
    {
     "name": "stdout",
     "output_type": "stream",
     "text": [
      "456\n",
      "1\n",
      "1\n"
     ]
    }
   ],
   "source": [
    "print max([1,4,7,123,6,67,456])\n",
    "print min([1,4,7,123,6,67,456])\n",
    "print abs(-1)"
   ]
  },
  {
   "cell_type": "code",
   "execution_count": 109,
   "metadata": {
    "collapsed": false
   },
   "outputs": [
    {
     "name": "stdout",
     "output_type": "stream",
     "text": [
      "<type 'list'>\n",
      "<type 'float'>\n"
     ]
    }
   ],
   "source": [
    "print type([1,2,3])\n",
    "print type(1.1)"
   ]
  },
  {
   "cell_type": "markdown",
   "metadata": {
    "collapsed": true,
    "slideshow": {
     "slide_type": "subslide"
    }
   },
   "source": [
    "# 求 mean square error\n",
    "\n",
    "\n",
    "# $$MSE = \\frac{1}{n}\\sqrt{ \\sum_{i=1}^{n} (\\hat{x_i}-x_i)^2 }$$"
   ]
  },
  {
   "cell_type": "code",
   "execution_count": 113,
   "metadata": {
    "collapsed": true,
    "slideshow": {
     "slide_type": "fragment"
    }
   },
   "outputs": [],
   "source": [
    "def mean_square_error(matrix_A,matrix_B):\n",
    "    e = 0.0\n",
    "    for i_a, i_b in zip(matrix_A,matrix_B):\n",
    "        for j_a, j_b in zip(i_a,i_b):\n",
    "            e += (float(j_a) - float(j_b))**2\n",
    "    return e**0.5 / float( len(matrix_A) * len(matrix_A[0]) )"
   ]
  },
  {
   "cell_type": "code",
   "execution_count": 114,
   "metadata": {
    "collapsed": true,
    "slideshow": {
     "slide_type": "fragment"
    }
   },
   "outputs": [],
   "source": [
    "def mse(matrix_A,matrix_B):\n",
    "    return sum([ float(j_a-j_b)**2 for i_a, i_b in zip(matrix_A,matrix_B) for j_a, j_b in zip(i_a,i_b) ])**0.5 / float( len(matrix_A) * len(matrix_A[0]) )"
   ]
  },
  {
   "cell_type": "code",
   "execution_count": 115,
   "metadata": {
    "collapsed": false,
    "slideshow": {
     "slide_type": "fragment"
    }
   },
   "outputs": [
    {
     "name": "stdout",
     "output_type": "stream",
     "text": [
      "0.351364184463\n",
      "0.351364184463\n"
     ]
    }
   ],
   "source": [
    "a = [[1,2,3],\n",
    "     [2,3,4],\n",
    "     [4,5,6]]\n",
    "\n",
    "b = [[2,1,2],\n",
    "     [3,3,3],\n",
    "     [4,4,4]]\n",
    "\n",
    "print mean_square_error(a,b)\n",
    "print mse(a,b)"
   ]
  },
  {
   "cell_type": "code",
   "execution_count": 37,
   "metadata": {
    "collapsed": false,
    "slideshow": {
     "slide_type": "slide"
    }
   },
   "outputs": [
    {
     "name": "stdout",
     "output_type": "stream",
     "text": [
      "1.0\n",
      "1.0\n"
     ]
    },
    {
     "ename": "ZeroDivisionError",
     "evalue": "float division by zero",
     "output_type": "error",
     "traceback": [
      "\u001b[0;31m---------------------------------------------------------------------------\u001b[0m",
      "\u001b[0;31mZeroDivisionError\u001b[0m                         Traceback (most recent call last)",
      "\u001b[0;32m<ipython-input-37-2a7e85877433>\u001b[0m in \u001b[0;36m<module>\u001b[0;34m()\u001b[0m\n\u001b[1;32m      2\u001b[0m \u001b[0my\u001b[0m \u001b[0;34m=\u001b[0m \u001b[0;34m[\u001b[0m\u001b[0;36m1\u001b[0m\u001b[0;34m,\u001b[0m\u001b[0;36m2\u001b[0m\u001b[0;34m,\u001b[0m\u001b[0;36m0\u001b[0m\u001b[0;34m,\u001b[0m\u001b[0;36m5\u001b[0m\u001b[0;34m,\u001b[0m\u001b[0;36m0\u001b[0m\u001b[0;34m]\u001b[0m\u001b[0;34m\u001b[0m\u001b[0m\n\u001b[1;32m      3\u001b[0m \u001b[0;32mfor\u001b[0m \u001b[0mi\u001b[0m\u001b[0;34m,\u001b[0m\u001b[0mj\u001b[0m \u001b[0;32min\u001b[0m \u001b[0mzip\u001b[0m\u001b[0;34m(\u001b[0m\u001b[0mx\u001b[0m\u001b[0;34m,\u001b[0m\u001b[0my\u001b[0m\u001b[0;34m)\u001b[0m\u001b[0;34m:\u001b[0m\u001b[0;34m\u001b[0m\u001b[0m\n\u001b[0;32m----> 4\u001b[0;31m     \u001b[0;32mprint\u001b[0m \u001b[0mfloat\u001b[0m\u001b[0;34m(\u001b[0m\u001b[0mi\u001b[0m\u001b[0;34m)\u001b[0m \u001b[0;34m/\u001b[0m \u001b[0mfloat\u001b[0m\u001b[0;34m(\u001b[0m\u001b[0mj\u001b[0m\u001b[0;34m)\u001b[0m\u001b[0;34m\u001b[0m\u001b[0m\n\u001b[0m",
      "\u001b[0;31mZeroDivisionError\u001b[0m: float division by zero"
     ]
    }
   ],
   "source": [
    "x = [1,2,3,4,5]\n",
    "y = [1,2,0,5,0]\n",
    "for i,j in zip(x,y):\n",
    "    print float(i) / float(j)"
   ]
  },
  {
   "cell_type": "markdown",
   "metadata": {
    "slideshow": {
     "slide_type": "fragment"
    }
   },
   "source": [
    "# 出錯了怎麼辦？？\n",
    "# σ(oдolll)...到底是哪個地方爆炸了？"
   ]
  },
  {
   "cell_type": "markdown",
   "metadata": {
    "slideshow": {
     "slide_type": "subslide"
    }
   },
   "source": [
    "# 14. exception\n",
    "> syntax: <br>\n",
    "> try: <br>\n",
    "> &nbsp;&nbsp;&nbsp;&nbsp;do something <br>\n",
    "> except: <br>\n",
    "> &nbsp;&nbsp;&nbsp;&nbsp;do something <br>"
   ]
  },
  {
   "cell_type": "code",
   "execution_count": 38,
   "metadata": {
    "collapsed": false,
    "slideshow": {
     "slide_type": "fragment"
    }
   },
   "outputs": [
    {
     "name": "stdout",
     "output_type": "stream",
     "text": [
      "0. 1.0\n",
      "1. 1.0\n",
      "2. ERROR: 3 / 0\n",
      "3. 0.8\n",
      "4. ERROR: 5 / 0\n"
     ]
    }
   ],
   "source": [
    "x = [1,2,3,4,5]\n",
    "y = [1,2,0,5,0]\n",
    "for idx, (i,j) in enumerate(zip(x,y)):\n",
    "    try:\n",
    "        print \"{idx}. {div}\".format( idx=idx, div = float(i) / float(j) )\n",
    "    except:\n",
    "        print \"{idx}. ERROR: {i} / {j}\".format(idx=idx,i=i,j=j)"
   ]
  },
  {
   "cell_type": "markdown",
   "metadata": {
    "slideshow": {
     "slide_type": "subslide"
    }
   },
   "source": [
    "# 如何印出python的錯誤訊息？？\n",
    "> --------------------------------------------------------------------------- <br>\n",
    "> ZeroDivisionError                         Traceback (most recent call last) <br>\n",
    "> <ipython-input-170-2a7e85877433> in <module>() <br>\n",
    ">       2 y = [1,2,0,5,0] <br>\n",
    ">       3 for i,j in zip(x,y): <br>\n",
    "> ----> 4     print float(i) / float(j) <br>\n",
    "> <br>\n",
    "> ZeroDivisionError: float division by zero <br>"
   ]
  },
  {
   "cell_type": "markdown",
   "metadata": {
    "slideshow": {
     "slide_type": "subslide"
    }
   },
   "source": [
    "# traceback()"
   ]
  },
  {
   "cell_type": "code",
   "execution_count": 89,
   "metadata": {
    "collapsed": true,
    "slideshow": {
     "slide_type": "fragment"
    }
   },
   "outputs": [],
   "source": [
    "import traceback"
   ]
  },
  {
   "cell_type": "code",
   "execution_count": 90,
   "metadata": {
    "collapsed": false,
    "slideshow": {
     "slide_type": "fragment"
    }
   },
   "outputs": [
    {
     "name": "stdout",
     "output_type": "stream",
     "text": [
      "0. 1.0\n",
      "1. 1.0\n",
      "2. ERROR: 3 / 0\n",
      "Traceback (most recent call last):\n",
      "  File \"<ipython-input-90-4b8db776622c>\", line 5, in <module>\n",
      "    print \"{idx}. {div}\".format( idx=idx, div = float(i) / float(j) )\n",
      "ZeroDivisionError: float division by zero\n",
      "\n",
      "3. 0.8\n",
      "4. ERROR: 5 / 0\n",
      "Traceback (most recent call last):\n",
      "  File \"<ipython-input-90-4b8db776622c>\", line 5, in <module>\n",
      "    print \"{idx}. {div}\".format( idx=idx, div = float(i) / float(j) )\n",
      "ZeroDivisionError: float division by zero\n",
      "\n"
     ]
    }
   ],
   "source": [
    "x = [1,2,3,4,5]\n",
    "y = [1,2,0,5,0]\n",
    "for idx, (i,j) in enumerate(zip(x,y)):\n",
    "    try:\n",
    "        print \"{idx}. {div}\".format( idx=idx, div = float(i) / float(j) )\n",
    "    except:\n",
    "        print \"{idx}. ERROR: {i} / {j}\".format(idx=idx,i=i,j=j)\n",
    "        print traceback.format_exc()"
   ]
  },
  {
   "cell_type": "markdown",
   "metadata": {
    "slideshow": {
     "slide_type": "fragment"
    }
   },
   "source": [
    "# Why traceback?\n",
    "Python的錯誤訊息，可以看到錯誤的行數，以及簡單的錯誤類型 <br>\n",
    "如果使用了try,exception的方式去處理，那就會看不到錯誤的行數與類型了！ <br>"
   ]
  },
  {
   "cell_type": "markdown",
   "metadata": {
    "slideshow": {
     "slide_type": "slide"
    }
   },
   "source": [
    "# 15. 讀寫檔"
   ]
  },
  {
   "cell_type": "markdown",
   "metadata": {
    "slideshow": {
     "slide_type": "fragment"
    }
   },
   "source": [
    "# open(filename,mode)\n",
    "> filename: 檔名 <br>\n",
    "> mode: <br>\n",
    ">>讀檔: 'r' <br>\n",
    ">>寫檔: 'w' <br>\n",
    ">>讀binary檔: 'rb' <br>\n",
    ">>寫binary檔: 'wb' <br>"
   ]
  },
  {
   "cell_type": "code",
   "execution_count": 91,
   "metadata": {
    "collapsed": true,
    "slideshow": {
     "slide_type": "fragment"
    }
   },
   "outputs": [],
   "source": [
    "writer = open(\"test.txt\",'w')\n",
    "writer.write(\"Hello world!\\n The\\nWorld\\nis\\nBeautiful!\")\n",
    "writer.close()"
   ]
  },
  {
   "cell_type": "code",
   "execution_count": 92,
   "metadata": {
    "collapsed": false,
    "slideshow": {
     "slide_type": "subslide"
    }
   },
   "outputs": [
    {
     "name": "stdout",
     "output_type": "stream",
     "text": [
      "['Hello world!\\n The\\nWorld\\nis\\nBeautiful!']\n"
     ]
    }
   ],
   "source": [
    "# 一次讀全部\n",
    "reader = open(\"test.txt\",'r')\n",
    "print [reader.read()]\n",
    "reader.close()"
   ]
  },
  {
   "cell_type": "code",
   "execution_count": 93,
   "metadata": {
    "collapsed": false,
    "slideshow": {
     "slide_type": "fragment"
    }
   },
   "outputs": [
    {
     "name": "stdout",
     "output_type": "stream",
     "text": [
      "['Hello world!\\n']\n",
      "[' The\\n']\n"
     ]
    }
   ],
   "source": [
    "# 一次讀一行\n",
    "reader = open(\"test.txt\",'r')\n",
    "print [ reader.readline() ]\n",
    "print [ reader.readline() ]\n",
    "reader.close()"
   ]
  },
  {
   "cell_type": "code",
   "execution_count": 94,
   "metadata": {
    "collapsed": false,
    "slideshow": {
     "slide_type": "fragment"
    }
   },
   "outputs": [
    {
     "name": "stdout",
     "output_type": "stream",
     "text": [
      "['Hello world!\\n']\n",
      "[' The\\n']\n",
      "['World\\n']\n",
      "['is\\n']\n",
      "['Beautiful!']\n"
     ]
    }
   ],
   "source": [
    "# 用迴圈讀檔\n",
    "reader = open(\"test.txt\",'r')\n",
    "for line in reader:\n",
    "    print [line]\n",
    "reader.close()"
   ]
  },
  {
   "cell_type": "code",
   "execution_count": 95,
   "metadata": {
    "collapsed": false,
    "slideshow": {
     "slide_type": "subslide"
    }
   },
   "outputs": [
    {
     "name": "stdout",
     "output_type": "stream",
     "text": [
      "['Hello world!\\n']\n",
      "[' The\\n']\n",
      "['World\\n']\n",
      "['is\\n']\n",
      "['Beautiful!']\n"
     ]
    }
   ],
   "source": [
    "# 用with讀檔\n",
    "with open(\"test.txt\",'r') as op:\n",
    "    for line in op:\n",
    "        print [line]"
   ]
  },
  {
   "cell_type": "markdown",
   "metadata": {
    "slideshow": {
     "slide_type": "fragment"
    }
   },
   "source": [
    "# 一般來說用with來讀檔比較好"
   ]
  },
  {
   "cell_type": "markdown",
   "metadata": {
    "slideshow": {
     "slide_type": "subslide"
    }
   },
   "source": [
    "# codecs.open()\n",
    "基本用法跟open一樣 <br>\n",
    "但是功能更強！可以對編碼進行調整！"
   ]
  },
  {
   "cell_type": "code",
   "execution_count": 96,
   "metadata": {
    "collapsed": false,
    "slideshow": {
     "slide_type": "fragment"
    }
   },
   "outputs": [],
   "source": [
    "import codecs\n",
    "writer = codecs.open(\"test2.txt\",'w',encoding='big5')\n",
    "writer.write(u\"你好嗎！\")\n",
    "writer.close()"
   ]
  },
  {
   "cell_type": "code",
   "execution_count": 97,
   "metadata": {
    "collapsed": false,
    "slideshow": {
     "slide_type": "subslide"
    }
   },
   "outputs": [
    {
     "name": "stdout",
     "output_type": "stream",
     "text": [
      "['\\xa7A\\xa6n\\xb6\\xdc\\xa1I']\n",
      "�A�n�ܡI\n",
      "[u'\\u4f60\\u597d\\u55ce\\uff01']\n",
      "你好嗎！\n",
      "['\\xe4\\xbd\\xa0\\xe5\\xa5\\xbd\\xe5\\x97\\x8e\\xef\\xbc\\x81']\n",
      "你好嗎！\n"
     ]
    }
   ],
   "source": [
    "with open(\"test2.txt\",'r') as op:\n",
    "    for line in op:\n",
    "        print [line]\n",
    "        print line\n",
    "        print [line.decode('big5')]\n",
    "        print line.decode('big5')\n",
    "        print [line.decode('big5').encode('utf8')]\n",
    "        print line.decode('big5').encode('utf8')"
   ]
  },
  {
   "cell_type": "code",
   "execution_count": 98,
   "metadata": {
    "collapsed": false
   },
   "outputs": [
    {
     "name": "stdout",
     "output_type": "stream",
     "text": [
      "[u'\\u4f60\\u597d\\u55ce\\uff01']\n",
      "你好嗎！\n"
     ]
    }
   ],
   "source": [
    "with codecs.open(\"test2.txt\",'r',encoding=\"big5\") as op:\n",
    "    for line in op:\n",
    "        print [line]\n",
    "        print line"
   ]
  },
  {
   "cell_type": "markdown",
   "metadata": {
    "slideshow": {
     "slide_type": "fragment"
    }
   },
   "source": [
    "# 編碼的世界是很複雜的....在本課程中將不會太著重在這塊上"
   ]
  },
  {
   "cell_type": "markdown",
   "metadata": {
    "slideshow": {
     "slide_type": "slide"
    }
   },
   "source": [
    "# 如果我想讀很大的資料，應該怎麼讀呢？"
   ]
  },
  {
   "cell_type": "markdown",
   "metadata": {
    "slideshow": {
     "slide_type": "subslide"
    }
   },
   "source": [
    "# 16. generator"
   ]
  },
  {
   "cell_type": "code",
   "execution_count": 116,
   "metadata": {
    "collapsed": true,
    "slideshow": {
     "slide_type": "fragment"
    }
   },
   "outputs": [],
   "source": [
    "def read_file():\n",
    "    with open(\"test.txt\",'r') as op:\n",
    "        for line in op:\n",
    "            yield line"
   ]
  },
  {
   "cell_type": "code",
   "execution_count": 120,
   "metadata": {
    "collapsed": false,
    "slideshow": {
     "slide_type": "fragment"
    }
   },
   "outputs": [
    {
     "name": "stdout",
     "output_type": "stream",
     "text": [
      "['Hello world!\\n']\n",
      "[' The\\n']\n",
      "['World\\n']\n",
      "['is\\n']\n",
      "['Beautiful!']\n"
     ]
    }
   ],
   "source": [
    "for line in read_file():\n",
    "    print [line]"
   ]
  },
  {
   "cell_type": "code",
   "execution_count": 127,
   "metadata": {
    "collapsed": false
   },
   "outputs": [
    {
     "name": "stdout",
     "output_type": "stream",
     "text": [
      "['Hello world!\\n']\n",
      "[' The\\n']\n",
      "['World\\n']\n"
     ]
    }
   ],
   "source": [
    "content = read_file()\n",
    "print [content.next()]\n",
    "print [content.next()]\n",
    "print [content.next()]"
   ]
  },
  {
   "cell_type": "markdown",
   "metadata": {
    "slideshow": {
     "slide_type": "fragment"
    }
   },
   "source": [
    "# 如此，一次就只會讀一行！"
   ]
  },
  {
   "cell_type": "code",
   "execution_count": 128,
   "metadata": {
    "collapsed": false,
    "slideshow": {
     "slide_type": "slide"
    }
   },
   "outputs": [
    {
     "name": "stdout",
     "output_type": "stream",
     "text": [
      "2\n"
     ]
    }
   ],
   "source": [
    "a = 1\n",
    "b = 2\n",
    "print a * b"
   ]
  },
  {
   "cell_type": "code",
   "execution_count": 156,
   "metadata": {
    "collapsed": false,
    "slideshow": {
     "slide_type": "fragment"
    }
   },
   "outputs": [
    {
     "ename": "TypeError",
     "evalue": "can't multiply sequence by non-int of type 'list'",
     "output_type": "error",
     "traceback": [
      "\u001b[0;31m---------------------------------------------------------------------------\u001b[0m",
      "\u001b[0;31mTypeError\u001b[0m                                 Traceback (most recent call last)",
      "\u001b[0;32m<ipython-input-156-b41a145e1ce0>\u001b[0m in \u001b[0;36m<module>\u001b[0;34m()\u001b[0m\n\u001b[1;32m      1\u001b[0m \u001b[0ma\u001b[0m \u001b[0;34m=\u001b[0m \u001b[0;34m[\u001b[0m\u001b[0;34m[\u001b[0m\u001b[0;36m1\u001b[0m\u001b[0;34m,\u001b[0m\u001b[0;36m2\u001b[0m\u001b[0;34m]\u001b[0m\u001b[0;34m,\u001b[0m\u001b[0;34m[\u001b[0m\u001b[0;36m3\u001b[0m\u001b[0;34m,\u001b[0m\u001b[0;36m4\u001b[0m\u001b[0;34m]\u001b[0m\u001b[0;34m]\u001b[0m\u001b[0;34m\u001b[0m\u001b[0m\n\u001b[1;32m      2\u001b[0m \u001b[0mb\u001b[0m \u001b[0;34m=\u001b[0m \u001b[0;34m[\u001b[0m\u001b[0;34m[\u001b[0m\u001b[0;36m1\u001b[0m\u001b[0;34m,\u001b[0m\u001b[0;36m1\u001b[0m\u001b[0;34m]\u001b[0m\u001b[0;34m,\u001b[0m\u001b[0;34m[\u001b[0m\u001b[0;36m1\u001b[0m\u001b[0;34m,\u001b[0m\u001b[0;36m1\u001b[0m\u001b[0;34m]\u001b[0m\u001b[0;34m]\u001b[0m\u001b[0;34m\u001b[0m\u001b[0m\n\u001b[0;32m----> 3\u001b[0;31m \u001b[0;32mprint\u001b[0m \u001b[0ma\u001b[0m \u001b[0;34m*\u001b[0m \u001b[0mb\u001b[0m\u001b[0;34m\u001b[0m\u001b[0m\n\u001b[0m",
      "\u001b[0;31mTypeError\u001b[0m: can't multiply sequence by non-int of type 'list'"
     ]
    }
   ],
   "source": [
    "a = [[1,2],[3,4]]\n",
    "b = [[1,1],[1,1]]\n",
    "print a * b"
   ]
  },
  {
   "cell_type": "markdown",
   "metadata": {
    "collapsed": true,
    "slideshow": {
     "slide_type": "fragment"
    }
   },
   "source": [
    "# (╬◣д◢)! 說好的矩陣相乘呢？？"
   ]
  },
  {
   "cell_type": "markdown",
   "metadata": {
    "slideshow": {
     "slide_type": "subslide"
    }
   },
   "source": [
    "# 17. class"
   ]
  },
  {
   "cell_type": "markdown",
   "metadata": {
    "slideshow": {
     "slide_type": "fragment"
    }
   },
   "source": [
    "\n",
    "$$ 由於整數間的乘法，python已經幫我們定義完成，因此兩個整數間可以使用 * $$\n",
    "$$ 但兩個list間的乘法內建是沒有定義的！$$\n",
    "$$ 所以如果我們想要做到兩個list的相乘，我們必須定義 * $$\n"
   ]
  },
  {
   "cell_type": "markdown",
   "metadata": {
    "slideshow": {
     "slide_type": "subslide"
    }
   },
   "source": [
    "# 讓我們先試著做出矩陣相加吧！"
   ]
  },
  {
   "cell_type": "code",
   "execution_count": 178,
   "metadata": {
    "collapsed": true,
    "slideshow": {
     "slide_type": "subslide"
    }
   },
   "outputs": [],
   "source": [
    "class matrix():\n",
    "    def __init__(self,matrix):\n",
    "        import copy\n",
    "        self.m = copy.deepcopy(matrix)\n",
    "    \n",
    "    def __add__(self, m):\n",
    "        tmp = matrix(m)\n",
    "        for r in xrange(len(m)):\n",
    "            for c in xrange(len(m[0])):\n",
    "                tmp[r][c] = self.m[r][c] + m[r][c]\n",
    "        return tmp"
   ]
  },
  {
   "cell_type": "code",
   "execution_count": 179,
   "metadata": {
    "collapsed": false,
    "slideshow": {
     "slide_type": "fragment"
    }
   },
   "outputs": [
    {
     "ename": "AttributeError",
     "evalue": "matrix instance has no attribute '__len__'",
     "output_type": "error",
     "traceback": [
      "\u001b[0;31m---------------------------------------------------------------------------\u001b[0m",
      "\u001b[0;31mAttributeError\u001b[0m                            Traceback (most recent call last)",
      "\u001b[0;32m<ipython-input-179-7c96d53a3047>\u001b[0m in \u001b[0;36m<module>\u001b[0;34m()\u001b[0m\n\u001b[1;32m      1\u001b[0m \u001b[0mm_a\u001b[0m \u001b[0;34m=\u001b[0m \u001b[0mmatrix\u001b[0m\u001b[0;34m(\u001b[0m\u001b[0ma\u001b[0m\u001b[0;34m)\u001b[0m\u001b[0;34m\u001b[0m\u001b[0m\n\u001b[1;32m      2\u001b[0m \u001b[0mm_b\u001b[0m \u001b[0;34m=\u001b[0m \u001b[0mmatrix\u001b[0m\u001b[0;34m(\u001b[0m\u001b[0mb\u001b[0m\u001b[0;34m)\u001b[0m\u001b[0;34m\u001b[0m\u001b[0m\n\u001b[0;32m----> 3\u001b[0;31m \u001b[0;32mprint\u001b[0m \u001b[0mm_a\u001b[0m \u001b[0;34m+\u001b[0m \u001b[0mm_b\u001b[0m \u001b[0;34m,\u001b[0m \u001b[0;34m\"\\n\"\u001b[0m\u001b[0;34m\u001b[0m\u001b[0m\n\u001b[0m",
      "\u001b[0;32m<ipython-input-178-e1ca426e02f8>\u001b[0m in \u001b[0;36m__add__\u001b[0;34m(self, m)\u001b[0m\n\u001b[1;32m      6\u001b[0m     \u001b[0;32mdef\u001b[0m \u001b[0m__add__\u001b[0m\u001b[0;34m(\u001b[0m\u001b[0mself\u001b[0m\u001b[0;34m,\u001b[0m \u001b[0mm\u001b[0m\u001b[0;34m)\u001b[0m\u001b[0;34m:\u001b[0m\u001b[0;34m\u001b[0m\u001b[0m\n\u001b[1;32m      7\u001b[0m         \u001b[0mtmp\u001b[0m \u001b[0;34m=\u001b[0m \u001b[0mmatrix\u001b[0m\u001b[0;34m(\u001b[0m\u001b[0mm\u001b[0m\u001b[0;34m)\u001b[0m\u001b[0;34m\u001b[0m\u001b[0m\n\u001b[0;32m----> 8\u001b[0;31m         \u001b[0;32mfor\u001b[0m \u001b[0mr\u001b[0m \u001b[0;32min\u001b[0m \u001b[0mxrange\u001b[0m\u001b[0;34m(\u001b[0m\u001b[0mlen\u001b[0m\u001b[0;34m(\u001b[0m\u001b[0mm\u001b[0m\u001b[0;34m)\u001b[0m\u001b[0;34m)\u001b[0m\u001b[0;34m:\u001b[0m\u001b[0;34m\u001b[0m\u001b[0m\n\u001b[0m\u001b[1;32m      9\u001b[0m             \u001b[0;32mfor\u001b[0m \u001b[0mc\u001b[0m \u001b[0;32min\u001b[0m \u001b[0mxrange\u001b[0m\u001b[0;34m(\u001b[0m\u001b[0mlen\u001b[0m\u001b[0;34m(\u001b[0m\u001b[0mm\u001b[0m\u001b[0;34m[\u001b[0m\u001b[0;36m0\u001b[0m\u001b[0;34m]\u001b[0m\u001b[0;34m)\u001b[0m\u001b[0;34m)\u001b[0m\u001b[0;34m:\u001b[0m\u001b[0;34m\u001b[0m\u001b[0m\n\u001b[1;32m     10\u001b[0m                 \u001b[0mtmp\u001b[0m\u001b[0;34m[\u001b[0m\u001b[0mr\u001b[0m\u001b[0;34m]\u001b[0m\u001b[0;34m[\u001b[0m\u001b[0mc\u001b[0m\u001b[0;34m]\u001b[0m \u001b[0;34m=\u001b[0m \u001b[0mself\u001b[0m\u001b[0;34m.\u001b[0m\u001b[0mm\u001b[0m\u001b[0;34m[\u001b[0m\u001b[0mr\u001b[0m\u001b[0;34m]\u001b[0m\u001b[0;34m[\u001b[0m\u001b[0mc\u001b[0m\u001b[0;34m]\u001b[0m \u001b[0;34m+\u001b[0m \u001b[0mm\u001b[0m\u001b[0;34m[\u001b[0m\u001b[0mr\u001b[0m\u001b[0;34m]\u001b[0m\u001b[0;34m[\u001b[0m\u001b[0mc\u001b[0m\u001b[0;34m]\u001b[0m\u001b[0;34m\u001b[0m\u001b[0m\n",
      "\u001b[0;31mAttributeError\u001b[0m: matrix instance has no attribute '__len__'"
     ]
    }
   ],
   "source": [
    "m_a = matrix(a)\n",
    "m_b = matrix(b)\n",
    "print m_a + m_b , \"\\n\""
   ]
  },
  {
   "cell_type": "code",
   "execution_count": 180,
   "metadata": {
    "collapsed": true,
    "slideshow": {
     "slide_type": "subslide"
    }
   },
   "outputs": [],
   "source": [
    "class matrix():\n",
    "    def __init__(self,matrix):\n",
    "        import copy\n",
    "        self.m = copy.deepcopy(matrix)\n",
    "    \n",
    "    def __add__(self, m):\n",
    "        tmp = matrix(m)\n",
    "        for r in xrange(len(m)):\n",
    "            for c in xrange(len(m[0])):\n",
    "                tmp[r][c] = self.m[r][c] + m[r][c]\n",
    "        return tmp\n",
    "\n",
    "    def __len__(self):\n",
    "        return len(self.m)"
   ]
  },
  {
   "cell_type": "code",
   "execution_count": 181,
   "metadata": {
    "collapsed": false,
    "slideshow": {
     "slide_type": "fragment"
    }
   },
   "outputs": [
    {
     "ename": "AttributeError",
     "evalue": "matrix instance has no attribute '__getitem__'",
     "output_type": "error",
     "traceback": [
      "\u001b[0;31m---------------------------------------------------------------------------\u001b[0m",
      "\u001b[0;31mAttributeError\u001b[0m                            Traceback (most recent call last)",
      "\u001b[0;32m<ipython-input-181-7c96d53a3047>\u001b[0m in \u001b[0;36m<module>\u001b[0;34m()\u001b[0m\n\u001b[1;32m      1\u001b[0m \u001b[0mm_a\u001b[0m \u001b[0;34m=\u001b[0m \u001b[0mmatrix\u001b[0m\u001b[0;34m(\u001b[0m\u001b[0ma\u001b[0m\u001b[0;34m)\u001b[0m\u001b[0;34m\u001b[0m\u001b[0m\n\u001b[1;32m      2\u001b[0m \u001b[0mm_b\u001b[0m \u001b[0;34m=\u001b[0m \u001b[0mmatrix\u001b[0m\u001b[0;34m(\u001b[0m\u001b[0mb\u001b[0m\u001b[0;34m)\u001b[0m\u001b[0;34m\u001b[0m\u001b[0m\n\u001b[0;32m----> 3\u001b[0;31m \u001b[0;32mprint\u001b[0m \u001b[0mm_a\u001b[0m \u001b[0;34m+\u001b[0m \u001b[0mm_b\u001b[0m \u001b[0;34m,\u001b[0m \u001b[0;34m\"\\n\"\u001b[0m\u001b[0;34m\u001b[0m\u001b[0m\n\u001b[0m",
      "\u001b[0;32m<ipython-input-180-3ddc78d9daf5>\u001b[0m in \u001b[0;36m__add__\u001b[0;34m(self, m)\u001b[0m\n\u001b[1;32m      7\u001b[0m         \u001b[0mtmp\u001b[0m \u001b[0;34m=\u001b[0m \u001b[0mmatrix\u001b[0m\u001b[0;34m(\u001b[0m\u001b[0mm\u001b[0m\u001b[0;34m)\u001b[0m\u001b[0;34m\u001b[0m\u001b[0m\n\u001b[1;32m      8\u001b[0m         \u001b[0;32mfor\u001b[0m \u001b[0mr\u001b[0m \u001b[0;32min\u001b[0m \u001b[0mxrange\u001b[0m\u001b[0;34m(\u001b[0m\u001b[0mlen\u001b[0m\u001b[0;34m(\u001b[0m\u001b[0mm\u001b[0m\u001b[0;34m)\u001b[0m\u001b[0;34m)\u001b[0m\u001b[0;34m:\u001b[0m\u001b[0;34m\u001b[0m\u001b[0m\n\u001b[0;32m----> 9\u001b[0;31m             \u001b[0;32mfor\u001b[0m \u001b[0mc\u001b[0m \u001b[0;32min\u001b[0m \u001b[0mxrange\u001b[0m\u001b[0;34m(\u001b[0m\u001b[0mlen\u001b[0m\u001b[0;34m(\u001b[0m\u001b[0mm\u001b[0m\u001b[0;34m[\u001b[0m\u001b[0;36m0\u001b[0m\u001b[0;34m]\u001b[0m\u001b[0;34m)\u001b[0m\u001b[0;34m)\u001b[0m\u001b[0;34m:\u001b[0m\u001b[0;34m\u001b[0m\u001b[0m\n\u001b[0m\u001b[1;32m     10\u001b[0m                 \u001b[0mtmp\u001b[0m\u001b[0;34m[\u001b[0m\u001b[0mr\u001b[0m\u001b[0;34m]\u001b[0m\u001b[0;34m[\u001b[0m\u001b[0mc\u001b[0m\u001b[0;34m]\u001b[0m \u001b[0;34m=\u001b[0m \u001b[0mself\u001b[0m\u001b[0;34m.\u001b[0m\u001b[0mm\u001b[0m\u001b[0;34m[\u001b[0m\u001b[0mr\u001b[0m\u001b[0;34m]\u001b[0m\u001b[0;34m[\u001b[0m\u001b[0mc\u001b[0m\u001b[0;34m]\u001b[0m \u001b[0;34m+\u001b[0m \u001b[0mm\u001b[0m\u001b[0;34m[\u001b[0m\u001b[0mr\u001b[0m\u001b[0;34m]\u001b[0m\u001b[0;34m[\u001b[0m\u001b[0mc\u001b[0m\u001b[0;34m]\u001b[0m\u001b[0;34m\u001b[0m\u001b[0m\n\u001b[1;32m     11\u001b[0m         \u001b[0;32mreturn\u001b[0m \u001b[0mtmp\u001b[0m\u001b[0;34m\u001b[0m\u001b[0m\n",
      "\u001b[0;31mAttributeError\u001b[0m: matrix instance has no attribute '__getitem__'"
     ]
    }
   ],
   "source": [
    "m_a = matrix(a)\n",
    "m_b = matrix(b)\n",
    "print m_a + m_b , \"\\n\""
   ]
  },
  {
   "cell_type": "code",
   "execution_count": 182,
   "metadata": {
    "collapsed": true,
    "slideshow": {
     "slide_type": "subslide"
    }
   },
   "outputs": [],
   "source": [
    "class matrix():\n",
    "    def __init__(self,matrix):\n",
    "        import copy\n",
    "        self.m = copy.deepcopy(matrix)\n",
    "        \n",
    "    def __getitem__(self,i):\n",
    "        return self.m[i]\n",
    "    \n",
    "    def __add__(self, m):\n",
    "        tmp = matrix(m)\n",
    "        for r in xrange(len(m)):\n",
    "            for c in xrange(len(m[0])):\n",
    "                tmp[r][c] = self.m[r][c] + m[r][c]\n",
    "        return tmp\n",
    "\n",
    "    def __len__(self):\n",
    "        return len(self.m)"
   ]
  },
  {
   "cell_type": "code",
   "execution_count": 183,
   "metadata": {
    "collapsed": false,
    "slideshow": {
     "slide_type": "fragment"
    }
   },
   "outputs": [
    {
     "name": "stdout",
     "output_type": "stream",
     "text": [
      "<__main__.matrix instance at 0x120677c20> \n",
      "\n"
     ]
    }
   ],
   "source": [
    "m_a = matrix(a)\n",
    "m_b = matrix(b)\n",
    "print m_a + m_b , \"\\n\""
   ]
  },
  {
   "cell_type": "code",
   "execution_count": 184,
   "metadata": {
    "collapsed": true,
    "slideshow": {
     "slide_type": "subslide"
    }
   },
   "outputs": [],
   "source": [
    "class matrix():\n",
    "    def __init__(self,matrix):\n",
    "        import copy\n",
    "        self.m = copy.deepcopy(matrix)\n",
    "        \n",
    "    def __getitem__(self,i):\n",
    "        return self.m[i]\n",
    "    \n",
    "    def __add__(self, m):\n",
    "        tmp = matrix(m)\n",
    "        for r in xrange(len(m)):\n",
    "            for c in xrange(len(m[0])):\n",
    "                tmp[r][c] = self.m[r][c] + m[r][c]\n",
    "        return tmp\n",
    "\n",
    "    def __len__(self):\n",
    "        return len(self.m)\n",
    "    \n",
    "    def __repr__(self):\n",
    "        string = \"\\n\".join([ str(i) for i in self.m ])\n",
    "        return string"
   ]
  },
  {
   "cell_type": "code",
   "execution_count": 185,
   "metadata": {
    "collapsed": false,
    "slideshow": {
     "slide_type": "fragment"
    }
   },
   "outputs": [
    {
     "name": "stdout",
     "output_type": "stream",
     "text": [
      "[2, 3]\n",
      "[4, 5] \n",
      "\n"
     ]
    }
   ],
   "source": [
    "m_a = matrix(a)\n",
    "m_b = matrix(b)\n",
    "print m_a + m_b , \"\\n\""
   ]
  },
  {
   "cell_type": "code",
   "execution_count": 186,
   "metadata": {
    "collapsed": true,
    "slideshow": {
     "slide_type": "subslide"
    }
   },
   "outputs": [],
   "source": [
    "class matrix():\n",
    "    def __init__(self,matrix):\n",
    "        import copy\n",
    "        self.m = copy.deepcopy(matrix)\n",
    "        \n",
    "    def __getitem__(self,i):\n",
    "        return self.m[i]\n",
    "    \n",
    "    def __add__(self, m):\n",
    "        tmp = matrix(m)\n",
    "        for r in xrange(len(m)):\n",
    "            for c in xrange(len(m[0])):\n",
    "                tmp[r][c] = self.m[r][c] + m[r][c]\n",
    "        return tmp\n",
    "    \n",
    "    def __sub__(self, m):\n",
    "        tmp = matrix(m)\n",
    "        for r in xrange(len(m)):\n",
    "            for c in xrange(len(m[0])):\n",
    "                tmp[r][c] = self.m[r][c] - m[r][c]\n",
    "        return tmp\n",
    "    \n",
    "    def __len__(self):\n",
    "        return len(self.m)\n",
    "    \n",
    "    def __repr__(self):\n",
    "        string = \"\\n\".join([ str(i) for i in self.m ])\n",
    "        return string"
   ]
  },
  {
   "cell_type": "code",
   "execution_count": 187,
   "metadata": {
    "collapsed": false,
    "slideshow": {
     "slide_type": "fragment"
    }
   },
   "outputs": [
    {
     "name": "stdout",
     "output_type": "stream",
     "text": [
      "[2, 3]\n",
      "[4, 5] \n",
      "\n",
      "[0, 1]\n",
      "[2, 3] \n",
      "\n"
     ]
    }
   ],
   "source": [
    "m_a = matrix(a)\n",
    "m_b = matrix(b)\n",
    "print m_a + m_b , \"\\n\"\n",
    "print m_a - m_b , \"\\n\""
   ]
  },
  {
   "cell_type": "code",
   "execution_count": 188,
   "metadata": {
    "collapsed": false,
    "slideshow": {
     "slide_type": "subslide"
    }
   },
   "outputs": [],
   "source": [
    "class matrix():\n",
    "    def __init__(self,matrix):\n",
    "        import copy\n",
    "        self.m = copy.deepcopy(matrix)\n",
    "        \n",
    "    def __getitem__(self,i):\n",
    "        return self.m[i]\n",
    "    \n",
    "    def __add__(self, m):\n",
    "        tmp = matrix(m)\n",
    "        for r in xrange(len(m)):\n",
    "            for c in xrange(len(m[0])):\n",
    "                tmp[r][c] = self.m[r][c] + m[r][c]\n",
    "        return tmp\n",
    "    \n",
    "    def __sub__(self, m):\n",
    "        tmp = matrix(m)\n",
    "        for r in xrange(len(m)):\n",
    "            for c in xrange(len(m[0])):\n",
    "                tmp[r][c] = self.m[r][c] - m[r][c]\n",
    "        return tmp\n",
    "    \n",
    "    def __mul__(self, m):\n",
    "        # init matrix\n",
    "        tmp = matrix(self.m)\n",
    "        \n",
    "        # transport matrix\n",
    "        m_t = matrix(m)\n",
    "        for r in xrange(len(m)):\n",
    "            for c in xrange(len(m[0])):\n",
    "                m_t[c][r] = m[r][c]\n",
    "        \n",
    "        # multiply matrix\n",
    "        for r in xrange(len(self.m)):\n",
    "            for c in xrange(len(self.m[r])):\n",
    "                tmp[r][c] = sum([ x * y for x,y in zip(self.m[r],m_t[c]) ])\n",
    "        return tmp\n",
    "    \n",
    "    def __len__(self):\n",
    "        return len(self.m)\n",
    "    \n",
    "    def __repr__(self):\n",
    "        string = \"\\n\".join([ str(i) for i in self.m ])\n",
    "        return string"
   ]
  },
  {
   "cell_type": "code",
   "execution_count": 189,
   "metadata": {
    "collapsed": false,
    "slideshow": {
     "slide_type": "subslide"
    }
   },
   "outputs": [
    {
     "name": "stdout",
     "output_type": "stream",
     "text": [
      "[1, 2]\n",
      "[3, 4] \n",
      "\n",
      "[1, 1]\n",
      "[1, 1] \n",
      "\n",
      "[2, 3]\n",
      "[4, 5] \n",
      "\n",
      "[0, 1]\n",
      "[2, 3] \n",
      "\n",
      "[3, 3]\n",
      "[7, 7] \n",
      "\n"
     ]
    }
   ],
   "source": [
    "m_a = matrix(a)\n",
    "m_b = matrix(b)\n",
    "print m_a , \"\\n\"\n",
    "print m_b , \"\\n\"\n",
    "print m_a + m_b , \"\\n\"\n",
    "print m_a - m_b , \"\\n\"\n",
    "print m_a * m_b , \"\\n\""
   ]
  },
  {
   "cell_type": "markdown",
   "metadata": {
    "slideshow": {
     "slide_type": "slide"
    }
   },
   "source": [
    "# 18. cmd program"
   ]
  },
  {
   "cell_type": "code",
   "execution_count": 17,
   "metadata": {
    "collapsed": false,
    "slideshow": {
     "slide_type": "fragment"
    }
   },
   "outputs": [
    {
     "name": "stdout",
     "output_type": "stream",
     "text": [
      "python programing.ipynb        test.txt\r\n",
      "python programing.slides.html  test2.txt\r\n"
     ]
    }
   ],
   "source": [
    "ls"
   ]
  },
  {
   "cell_type": "code",
   "execution_count": 18,
   "metadata": {
    "collapsed": false,
    "slideshow": {
     "slide_type": "fragment"
    }
   },
   "outputs": [],
   "source": [
    "a_program = \"\"\"\n",
    "import sys\n",
    "print sys.argv[1:]\n",
    "\"\"\"\n",
    "writer = open(\"cmd_program.py\",'w')\n",
    "writer.write(a_program)\n",
    "writer.close()"
   ]
  },
  {
   "cell_type": "code",
   "execution_count": 19,
   "metadata": {
    "collapsed": false,
    "slideshow": {
     "slide_type": "fragment"
    }
   },
   "outputs": [
    {
     "name": "stdout",
     "output_type": "stream",
     "text": [
      "cmd_program.py                 test.txt\r\n",
      "python programing.ipynb        test2.txt\r\n",
      "python programing.slides.html\r\n"
     ]
    }
   ],
   "source": [
    "ls"
   ]
  },
  {
   "cell_type": "code",
   "execution_count": 20,
   "metadata": {
    "collapsed": false,
    "slideshow": {
     "slide_type": "subslide"
    }
   },
   "outputs": [
    {
     "name": "stdout",
     "output_type": "stream",
     "text": [
      "['Hi', 'how', 'are', 'you!']\n",
      "\n",
      "import sys\n",
      "print sys.argv[1:]\n",
      "\n"
     ]
    }
   ],
   "source": [
    "%run cmd_program.py Hi how are you!\n",
    "# similar to $> python cmd_program.py Hi how are you!\n",
    "\n",
    "print a_program"
   ]
  },
  {
   "cell_type": "markdown",
   "metadata": {
    "slideshow": {
     "slide_type": "slide"
    }
   },
   "source": [
    "# 19. memory control\n",
    "> psutil 是一個監看系統狀態的好工具！ <br>\n",
    "> https://pypi.python.org/pypi/psutil <br>\n",
    "> 安裝: pip install psutil <br>"
   ]
  },
  {
   "cell_type": "code",
   "execution_count": 32,
   "metadata": {
    "collapsed": false,
    "slideshow": {
     "slide_type": "skip"
    }
   },
   "outputs": [
    {
     "data": {
      "text/plain": [
       "0"
      ]
     },
     "execution_count": 32,
     "metadata": {},
     "output_type": "execute_result"
    }
   ],
   "source": [
    "import gc\n",
    "gc.collect()"
   ]
  },
  {
   "cell_type": "code",
   "execution_count": 33,
   "metadata": {
    "collapsed": false,
    "slideshow": {
     "slide_type": "fragment"
    }
   },
   "outputs": [
    {
     "name": "stdout",
     "output_type": "stream",
     "text": [
      "svmem(total=4294967296L, available=1909641216L, percent=55.5, used=2379661312L, free=1286201344L, active=435347456L, inactive=623439872L, wired=1320873984L)\n"
     ]
    }
   ],
   "source": [
    "import psutil\n",
    "print psutil.virtual_memory()"
   ]
  },
  {
   "cell_type": "code",
   "execution_count": 34,
   "metadata": {
    "collapsed": false,
    "slideshow": {
     "slide_type": "fragment"
    }
   },
   "outputs": [
    {
     "name": "stdout",
     "output_type": "stream",
     "text": [
      "55.5\n",
      "74.2\n"
     ]
    }
   ],
   "source": [
    "print psutil.virtual_memory()[2]\n",
    "# 執行前請小心，這可能會要了你記憶體的命\n",
    "a = range(10**8)\n",
    "print psutil.virtual_memory()[2]"
   ]
  },
  {
   "cell_type": "code",
   "execution_count": 35,
   "metadata": {
    "collapsed": false,
    "slideshow": {
     "slide_type": "subslide"
    }
   },
   "outputs": [
    {
     "name": "stdout",
     "output_type": "stream",
     "text": [
      "69.9\n"
     ]
    }
   ],
   "source": [
    "del a\n",
    "print psutil.virtual_memory()[2]"
   ]
  },
  {
   "cell_type": "markdown",
   "metadata": {
    "slideshow": {
     "slide_type": "fragment"
    }
   },
   "source": [
    "# 啊我的記憶體空間勒？？？"
   ]
  },
  {
   "cell_type": "markdown",
   "metadata": {
    "collapsed": true,
    "slideshow": {
     "slide_type": "subslide"
    }
   },
   "source": [
    "# (｡･ˇ_ˇ･｡) 說好的還我記憶體...."
   ]
  },
  {
   "cell_type": "markdown",
   "metadata": {
    "slideshow": {
     "slide_type": "subslide"
    }
   },
   "source": [
    "# gc\n",
    "> import gc <br>\n",
    "> gc.collect()"
   ]
  },
  {
   "cell_type": "code",
   "execution_count": 36,
   "metadata": {
    "collapsed": false,
    "slideshow": {
     "slide_type": "fragment"
    }
   },
   "outputs": [
    {
     "name": "stdout",
     "output_type": "stream",
     "text": [
      "47.8\n"
     ]
    }
   ],
   "source": [
    "import gc\n",
    "gc.collect()\n",
    "print psutil.virtual_memory()[2]"
   ]
  },
  {
   "cell_type": "code",
   "execution_count": 72,
   "metadata": {
    "collapsed": false,
    "slideshow": {
     "slide_type": "slide"
    }
   },
   "outputs": [
    {
     "name": "stdout",
     "output_type": "stream",
     "text": [
      "25.3801259995\n"
     ]
    }
   ],
   "source": [
    "import time\n",
    "import gc\n",
    "gc.collect()\n",
    "t = time.time()\n",
    "data = []\n",
    "for i in xrange(10**7):\n",
    "    data.append(i**10)\n",
    "print time.time() - t"
   ]
  },
  {
   "cell_type": "markdown",
   "metadata": {
    "slideshow": {
     "slide_type": "fragment"
    }
   },
   "source": [
    "# 程式跑好慢啊..."
   ]
  },
  {
   "cell_type": "markdown",
   "metadata": {
    "slideshow": {
     "slide_type": "subslide"
    }
   },
   "source": [
    "# 一個程式跑很慢，你有用2個程式跑嗎？"
   ]
  },
  {
   "cell_type": "markdown",
   "metadata": {
    "slideshow": {
     "slide_type": "subslide"
    }
   },
   "source": [
    "# 20. multiprocessing\n",
    "> pool"
   ]
  },
  {
   "cell_type": "code",
   "execution_count": 73,
   "metadata": {
    "collapsed": true,
    "slideshow": {
     "slide_type": "fragment"
    }
   },
   "outputs": [],
   "source": [
    "from multiprocessing import Pool"
   ]
  },
  {
   "cell_type": "code",
   "execution_count": 74,
   "metadata": {
    "collapsed": true,
    "slideshow": {
     "slide_type": "fragment"
    }
   },
   "outputs": [],
   "source": [
    "def worker(i):\n",
    "    i**10"
   ]
  },
  {
   "cell_type": "code",
   "execution_count": 75,
   "metadata": {
    "collapsed": false,
    "slideshow": {
     "slide_type": "fragment"
    }
   },
   "outputs": [
    {
     "name": "stdout",
     "output_type": "stream",
     "text": [
      "14.1475000381\n"
     ]
    }
   ],
   "source": [
    "gc.collect()\n",
    "t = time.time()\n",
    "\n",
    "p = Pool(4)\n",
    "result = p.map(worker,xrange(10**7))\n",
    "\n",
    "print time.time() - t"
   ]
  },
  {
   "cell_type": "markdown",
   "metadata": {
    "slideshow": {
     "slide_type": "fragment"
    }
   },
   "source": [
    "# ヾ(*´∀｀*)ﾉ 我用4個跑超快！"
   ]
  },
  {
   "cell_type": "markdown",
   "metadata": {
    "slideshow": {
     "slide_type": "slide"
    }
   },
   "source": [
    "# 21. experience"
   ]
  },
  {
   "cell_type": "markdown",
   "metadata": {
    "collapsed": false,
    "slideshow": {
     "slide_type": "subslide"
    }
   },
   "source": [
    "# 檔"
   ]
  },
  {
   "cell_type": "markdown",
   "metadata": {
    "slideshow": {
     "slide_type": "subslide"
    }
   },
   "source": [
    "# 不能沒有註解"
   ]
  },
  {
   "cell_type": "markdown",
   "metadata": {
    "slideshow": {
     "slide_type": "fragment"
    }
   },
   "source": [
    "多行註解可以將code全選後，按ctrl+/(mac: command+/)"
   ]
  },
  {
   "cell_type": "markdown",
   "metadata": {
    "slideshow": {
     "slide_type": "subslide"
    }
   },
   "source": [
    "# 一次調整多行縮排\n",
    "\n",
    "若要調整多行縮排，可以將code全選後按 ctrl/command+[ or ctrl/command + ]"
   ]
  },
  {
   "cell_type": "markdown",
   "metadata": {
    "slideshow": {
     "slide_type": "subslide"
    }
   },
   "source": [
    "# 如果想將ipynb轉成slides怎麼用呢？"
   ]
  },
  {
   "cell_type": "markdown",
   "metadata": {
    "slideshow": {
     "slide_type": "fragment"
    }
   },
   "source": [
    "在ipynb的目錄下輸入以下指令就可以囉！ <br>\n",
    "ipython nbconvert filename_of_your_ipynotebook.ipynb --to slides --post serve"
   ]
  },
  {
   "cell_type": "markdown",
   "metadata": {
    "slideshow": {
     "slide_type": "subslide"
    }
   },
   "source": [
    "# 如果想share到網路上\n",
    "1. 可以申請一個github帳號\n",
    "2. 然後到nbvirwer http://nbviewer.ipython.org/\n",
    "3. 輸入github帳號\n",
    "4. 打開ipynb後就可以看囉！"
   ]
  },
  {
   "cell_type": "markdown",
   "metadata": {
    "slideshow": {
     "slide_type": "slide"
    }
   },
   "source": [
    "# Thanks for your watching!"
   ]
  }
 ],
 "metadata": {
  "celltoolbar": "Slideshow",
  "kernelspec": {
   "display_name": "Python 2",
   "language": "python",
   "name": "python2"
  },
  "language_info": {
   "codemirror_mode": {
    "name": "ipython",
    "version": 2
   },
   "file_extension": ".py",
   "mimetype": "text/x-python",
   "name": "python",
   "nbconvert_exporter": "python",
   "pygments_lexer": "ipython2",
   "version": "2.7.6"
  }
 },
 "nbformat": 4,
 "nbformat_minor": 0
}
